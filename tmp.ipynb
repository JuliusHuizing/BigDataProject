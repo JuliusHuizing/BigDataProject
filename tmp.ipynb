{
 "cells": [
  {
   "cell_type": "code",
   "execution_count": 10,
   "metadata": {},
   "outputs": [
    {
     "ename": "DataContextError",
     "evalue": "Can not write the fluent datasource tst because a datasource of that name already exists in the data context.",
     "output_type": "error",
     "traceback": [
      "\u001b[0;31m---------------------------------------------------------------------------\u001b[0m",
      "\u001b[0;31mDataContextError\u001b[0m                          Traceback (most recent call last)",
      "Cell \u001b[0;32mIn[10], line 12\u001b[0m\n\u001b[1;32m      9\u001b[0m \u001b[38;5;66;03m# context = gx.get_context()\u001b[39;00m\n\u001b[1;32m     10\u001b[0m context \u001b[38;5;241m=\u001b[39m DataContext(\u001b[38;5;124m\"\u001b[39m\u001b[38;5;124mgx/\u001b[39m\u001b[38;5;124m\"\u001b[39m)\n\u001b[0;32m---> 12\u001b[0m datasource \u001b[38;5;241m=\u001b[39m \u001b[43mcontext\u001b[49m\u001b[38;5;241;43m.\u001b[39;49m\u001b[43msources\u001b[49m\u001b[38;5;241;43m.\u001b[39;49m\u001b[43madd_spark\u001b[49m\u001b[43m(\u001b[49m\u001b[38;5;124;43m\"\u001b[39;49m\u001b[38;5;124;43mtst\u001b[39;49m\u001b[38;5;124;43m\"\u001b[39;49m\u001b[43m)\u001b[49m\n\u001b[1;32m     13\u001b[0m name \u001b[38;5;241m=\u001b[39m \u001b[38;5;124m\"\u001b[39m\u001b[38;5;124mmy_df_dataset\u001b[39m\u001b[38;5;124m\"\u001b[39m\n\u001b[1;32m     14\u001b[0m \u001b[38;5;66;03m# data_asset = datasource.add_dataframe_asset(name=name)\u001b[39;00m\n\u001b[1;32m     15\u001b[0m \n\u001b[1;32m     16\u001b[0m \n\u001b[1;32m     17\u001b[0m \u001b[38;5;66;03m# Load your data into a PySpark DataFrame\u001b[39;00m\n",
      "File \u001b[0;32m~/repos/BD-Project/.venv/lib/python3.12/site-packages/great_expectations/datasource/fluent/sources.py:473\u001b[0m, in \u001b[0;36m_SourceFactories.create_add_crud_method.<locals>.add_datasource\u001b[0;34m(name_or_datasource, **kwargs)\u001b[0m\n\u001b[1;32m    471\u001b[0m datasource\u001b[38;5;241m.\u001b[39m_data_context \u001b[38;5;241m=\u001b[39m \u001b[38;5;28mself\u001b[39m\u001b[38;5;241m.\u001b[39m_data_context\n\u001b[1;32m    472\u001b[0m datasource\u001b[38;5;241m.\u001b[39mtest_connection()\n\u001b[0;32m--> 473\u001b[0m datasource \u001b[38;5;241m=\u001b[39m \u001b[38;5;28;43mself\u001b[39;49m\u001b[38;5;241;43m.\u001b[39;49m\u001b[43m_data_context\u001b[49m\u001b[38;5;241;43m.\u001b[39;49m\u001b[43m_add_fluent_datasource\u001b[49m\u001b[43m(\u001b[49m\u001b[43mdatasource\u001b[49m\u001b[43m)\u001b[49m\n\u001b[1;32m    475\u001b[0m \u001b[38;5;28;01mreturn\u001b[39;00m datasource\n",
      "File \u001b[0;32m~/repos/BD-Project/.venv/lib/python3.12/site-packages/great_expectations/data_context/data_context/abstract_data_context.py:779\u001b[0m, in \u001b[0;36mAbstractDataContext._add_fluent_datasource\u001b[0;34m(self, datasource, **kwargs)\u001b[0m\n\u001b[1;32m    777\u001b[0m \u001b[38;5;66;03m# We currently don't allow one to overwrite a datasource with this internal method\u001b[39;00m\n\u001b[1;32m    778\u001b[0m \u001b[38;5;28;01mif\u001b[39;00m datasource_name \u001b[38;5;129;01min\u001b[39;00m \u001b[38;5;28mself\u001b[39m\u001b[38;5;241m.\u001b[39mdatasources:\n\u001b[0;32m--> 779\u001b[0m     \u001b[38;5;28;01mraise\u001b[39;00m gx_exceptions\u001b[38;5;241m.\u001b[39mDataContextError(\n\u001b[1;32m    780\u001b[0m         \u001b[38;5;124mf\u001b[39m\u001b[38;5;124m\"\u001b[39m\u001b[38;5;124mCan not write the fluent datasource \u001b[39m\u001b[38;5;132;01m{\u001b[39;00mdatasource_name\u001b[38;5;132;01m}\u001b[39;00m\u001b[38;5;124m because a datasource of that \u001b[39m\u001b[38;5;124m\"\u001b[39m\n\u001b[1;32m    781\u001b[0m         \u001b[38;5;124m\"\u001b[39m\u001b[38;5;124mname already exists in the data context.\u001b[39m\u001b[38;5;124m\"\u001b[39m\n\u001b[1;32m    782\u001b[0m     )\n\u001b[1;32m    784\u001b[0m \u001b[38;5;28;01mif\u001b[39;00m \u001b[38;5;129;01mnot\u001b[39;00m datasource:\n\u001b[1;32m    785\u001b[0m     ds_type \u001b[38;5;241m=\u001b[39m _SourceFactories\u001b[38;5;241m.\u001b[39mtype_lookup[kwargs[\u001b[38;5;124m\"\u001b[39m\u001b[38;5;124mtype\u001b[39m\u001b[38;5;124m\"\u001b[39m]]\n",
      "\u001b[0;31mDataContextError\u001b[0m: Can not write the fluent datasource tst because a datasource of that name already exists in the data context."
     ]
    }
   ],
   "source": [
    "from pyspark.sql import SparkSession\n",
    "from great_expectations.dataset.sparkdf_dataset import SparkDFDataset\n",
    "from great_expectations.data_context import DataContext\n",
    "import great_expectations as gx\n",
    "# Initialize Spark Session\n",
    "spark = SparkSession.builder.appName(\"GE with PySpark\").getOrCreate()\n",
    "\n",
    "\n",
    "# context = gx.get_context()\n",
    "context = DataContext(\"gx/\")\n",
    "\n",
    "datasource = context.sources.add_spark(\"tst\")\n",
    "name = \"my_df_dataset\"\n",
    "data_asset = datasource.add_dataframe_asset(name=name)\n",
    "\n",
    "\n",
    "# Load your data into a PySpark DataFrame\n",
    "df = spark.read.csv(\"data/train/train-1.csv\", header=True, inferSchema=True)\n",
    "\n",
    "\n",
    "batch_request = data_asset.build_batch_request(dataframe=df)\n",
    "\n",
    "\n",
    "# # Convert the PySpark DataFrame to a Great Expectations Dataset\n",
    "# ge_df = SparkDFDataset(df)\n",
    "\n",
    "# # Load the DataContext and expectation suite\n",
    "# context = DataContext(\"great_expectations\")\n",
    "# suite = context.get_expectation_suite(\"your_expectation_suite_name\")\n",
    "\n",
    "# # Validate the DataFrame against the suite\n",
    "# results = context.run_validation_operator(\"action_list_operator\", assets_to_validate=[ge_df], expectation_suite_name=suite.expectation_suite_name)\n",
    "\n",
    "# # Print the validation results\n",
    "# print(results)\n"
   ]
  },
  {
   "cell_type": "code",
   "execution_count": 3,
   "metadata": {},
   "outputs": [
    {
     "data": {
      "text/plain": [
       "BatchRequest(datasource_name='tst', data_asset_name='my_df_dataset', options={})"
      ]
     },
     "execution_count": 3,
     "metadata": {},
     "output_type": "execute_result"
    }
   ],
   "source": [
    "batch_request"
   ]
  },
  {
   "cell_type": "code",
   "execution_count": 4,
   "metadata": {},
   "outputs": [
    {
     "data": {
      "text/plain": [
       "{\n",
       "  \"expectation_suite_name\": \"my_expectation_suite\",\n",
       "  \"ge_cloud_id\": null,\n",
       "  \"expectations\": [],\n",
       "  \"data_asset_type\": null,\n",
       "  \"meta\": {\n",
       "    \"great_expectations_version\": \"0.18.11\"\n",
       "  }\n",
       "}"
      ]
     },
     "execution_count": 4,
     "metadata": {},
     "output_type": "execute_result"
    }
   ],
   "source": [
    "context.add_or_update_expectation_suite(\"my_expectation_suite\")\n"
   ]
  },
  {
   "cell_type": "code",
   "execution_count": 5,
   "metadata": {},
   "outputs": [
    {
     "data": {
      "text/plain": [
       "{\n",
       "  \"anonymous_usage_statistics\": {\n",
       "    \"explicit_url\": false,\n",
       "    \"usage_statistics_url\": \"https://stats.greatexpectations.io/great_expectations/v1/usage_statistics\",\n",
       "    \"explicit_id\": true,\n",
       "    \"enabled\": true,\n",
       "    \"data_context_id\": \"f0ecb877-5a37-47d7-bbab-2a4c7aafaa41\"\n",
       "  },\n",
       "  \"checkpoint_store_name\": \"checkpoint_store\",\n",
       "  \"config_variables_file_path\": \"uncommitted/config_variables.yml\",\n",
       "  \"config_version\": 3.0,\n",
       "  \"data_docs_sites\": {\n",
       "    \"local_site\": {\n",
       "      \"class_name\": \"SiteBuilder\",\n",
       "      \"show_how_to_buttons\": true,\n",
       "      \"store_backend\": {\n",
       "        \"class_name\": \"TupleFilesystemStoreBackend\",\n",
       "        \"base_directory\": \"uncommitted/data_docs/local_site/\"\n",
       "      },\n",
       "      \"site_index_builder\": {\n",
       "        \"class_name\": \"DefaultSiteIndexBuilder\"\n",
       "      }\n",
       "    }\n",
       "  },\n",
       "  \"datasources\": {},\n",
       "  \"evaluation_parameter_store_name\": \"evaluation_parameter_store\",\n",
       "  \"expectations_store_name\": \"expectations_store\",\n",
       "  \"fluent_datasources\": {\n",
       "    \"my_spark_datasource\": {\n",
       "      \"type\": \"spark\",\n",
       "      \"assets\": {\n",
       "        \"my_df_dataset\": {\n",
       "          \"type\": \"dataframe\",\n",
       "          \"batch_metadata\": {}\n",
       "        }\n",
       "      }\n",
       "    }\n",
       "  },\n",
       "  \"include_rendered_content\": {\n",
       "    \"expectation_suite\": false,\n",
       "    \"globally\": false,\n",
       "    \"expectation_validation_result\": false\n",
       "  },\n",
       "  \"plugins_directory\": \"plugins/\",\n",
       "  \"stores\": {\n",
       "    \"expectations_store\": {\n",
       "      \"class_name\": \"ExpectationsStore\",\n",
       "      \"store_backend\": {\n",
       "        \"class_name\": \"TupleFilesystemStoreBackend\",\n",
       "        \"base_directory\": \"expectations/\"\n",
       "      }\n",
       "    },\n",
       "    \"validations_store\": {\n",
       "      \"class_name\": \"ValidationsStore\",\n",
       "      \"store_backend\": {\n",
       "        \"class_name\": \"TupleFilesystemStoreBackend\",\n",
       "        \"base_directory\": \"uncommitted/validations/\"\n",
       "      }\n",
       "    },\n",
       "    \"evaluation_parameter_store\": {\n",
       "      \"class_name\": \"EvaluationParameterStore\"\n",
       "    },\n",
       "    \"checkpoint_store\": {\n",
       "      \"class_name\": \"CheckpointStore\",\n",
       "      \"store_backend\": {\n",
       "        \"class_name\": \"TupleFilesystemStoreBackend\",\n",
       "        \"suppress_store_backend_id\": true,\n",
       "        \"base_directory\": \"checkpoints/\"\n",
       "      }\n",
       "    },\n",
       "    \"profiler_store\": {\n",
       "      \"class_name\": \"ProfilerStore\",\n",
       "      \"store_backend\": {\n",
       "        \"class_name\": \"TupleFilesystemStoreBackend\",\n",
       "        \"suppress_store_backend_id\": true,\n",
       "        \"base_directory\": \"profilers/\"\n",
       "      }\n",
       "    }\n",
       "  },\n",
       "  \"validations_store_name\": \"validations_store\"\n",
       "}"
      ]
     },
     "execution_count": 5,
     "metadata": {},
     "output_type": "execute_result"
    }
   ],
   "source": [
    "context"
   ]
  },
  {
   "cell_type": "code",
   "execution_count": 6,
   "metadata": {},
   "outputs": [
    {
     "data": {
      "application/vnd.jupyter.widget-view+json": {
       "model_id": "eccbf21b13af46b9991c0e4fd10f71f1",
       "version_major": 2,
       "version_minor": 0
      },
      "text/plain": [
       "Calculating Metrics:   0%|          | 0/1 [00:00<?, ?it/s]"
      ]
     },
     "metadata": {},
     "output_type": "display_data"
    },
    {
     "name": "stderr",
     "output_type": "stream",
     "text": [
      "24/03/19 11:41:14 WARN CSVHeaderChecker: CSV header does not conform to the schema.\n",
      " Header: , product_id, product_parent, product_title, vine, verified_purchase, review_headline, review_body, review_date, marketplace_id, product_category_id, label\n",
      " Schema: _c0, product_id, product_parent, product_title, vine, verified_purchase, review_headline, review_body, review_date, marketplace_id, product_category_id, label\n",
      "Expected: _c0 but found: \n",
      "CSV file: file:///Users/julius/repos/BD-Project/data/train/train-1.csv\n"
     ]
    },
    {
     "data": {
      "text/html": [
       "<div>\n",
       "<style scoped>\n",
       "    .dataframe tbody tr th:only-of-type {\n",
       "        vertical-align: middle;\n",
       "    }\n",
       "\n",
       "    .dataframe tbody tr th {\n",
       "        vertical-align: top;\n",
       "    }\n",
       "\n",
       "    .dataframe thead th {\n",
       "        text-align: right;\n",
       "    }\n",
       "</style>\n",
       "<table border=\"1\" class=\"dataframe\">\n",
       "  <thead>\n",
       "    <tr style=\"text-align: right;\">\n",
       "      <th></th>\n",
       "      <th>_c0</th>\n",
       "      <th>product_id</th>\n",
       "      <th>product_parent</th>\n",
       "      <th>product_title</th>\n",
       "      <th>vine</th>\n",
       "      <th>verified_purchase</th>\n",
       "      <th>review_headline</th>\n",
       "      <th>review_body</th>\n",
       "      <th>review_date</th>\n",
       "      <th>marketplace_id</th>\n",
       "      <th>product_category_id</th>\n",
       "      <th>label</th>\n",
       "    </tr>\n",
       "  </thead>\n",
       "  <tbody>\n",
       "    <tr>\n",
       "      <th>0</th>\n",
       "      <td>9</td>\n",
       "      <td>B001N2MZT8</td>\n",
       "      <td>903886718</td>\n",
       "      <td>Green Zone [DVD]</td>\n",
       "      <td>N</td>\n",
       "      <td>Y</td>\n",
       "      <td>green zone</td>\n",
       "      <td>I found at first it was a little difficult to ...</td>\n",
       "      <td>2010-11-15</td>\n",
       "      <td>1</td>\n",
       "      <td>3</td>\n",
       "      <td>False</td>\n",
       "    </tr>\n",
       "    <tr>\n",
       "      <th>1</th>\n",
       "      <td>11</td>\n",
       "      <td>B00GCBVE0Q</td>\n",
       "      <td>282740618</td>\n",
       "      <td>Le secret de Green Knowe</td>\n",
       "      <td>N</td>\n",
       "      <td>Y</td>\n",
       "      <td>None</td>\n",
       "      <td>J'ai aimé cette histoire. Les acteurs - et sur...</td>\n",
       "      <td>2014-11-23</td>\n",
       "      <td>2</td>\n",
       "      <td>3</td>\n",
       "      <td>False</td>\n",
       "    </tr>\n",
       "    <tr>\n",
       "      <th>2</th>\n",
       "      <td>19</td>\n",
       "      <td>1423165691</td>\n",
       "      <td>883799517</td>\n",
       "      <td>A Disney Sketchbook.</td>\n",
       "      <td>N</td>\n",
       "      <td>N</td>\n",
       "      <td>okay mais...</td>\n",
       "      <td>est-ce une coincidence que la plupart des prin...</td>\n",
       "      <td>2012-12-22</td>\n",
       "      <td>0</td>\n",
       "      <td>0</td>\n",
       "      <td>False</td>\n",
       "    </tr>\n",
       "    <tr>\n",
       "      <th>3</th>\n",
       "      <td>33</td>\n",
       "      <td>0061091480</td>\n",
       "      <td>623343977</td>\n",
       "      <td>Your Erroneous Zones</td>\n",
       "      <td>N</td>\n",
       "      <td>N</td>\n",
       "      <td>Arrogant</td>\n",
       "      <td>Wáyné Dyér is á pớpúlár áméricán pérsớnál grớw...</td>\n",
       "      <td>2009-07-21</td>\n",
       "      <td>0</td>\n",
       "      <td>0</td>\n",
       "      <td>True</td>\n",
       "    </tr>\n",
       "    <tr>\n",
       "      <th>4</th>\n",
       "      <td>34</td>\n",
       "      <td>B00HZ4CYOY</td>\n",
       "      <td>647510225</td>\n",
       "      <td>König der Mathematik Junior</td>\n",
       "      <td>N</td>\n",
       "      <td>Y</td>\n",
       "      <td>Tớllé Máthé Ápp...</td>\n",
       "      <td>.....unsere Kids mögen diese Art des Lernens. ...</td>\n",
       "      <td>2015-06-01</td>\n",
       "      <td>0</td>\n",
       "      <td>1</td>\n",
       "      <td>False</td>\n",
       "    </tr>\n",
       "  </tbody>\n",
       "</table>\n",
       "</div>"
      ],
      "text/plain": [
       "   _c0  product_id  product_parent                product_title vine  \\\n",
       "0    9  B001N2MZT8       903886718             Green Zone [DVD]    N   \n",
       "1   11  B00GCBVE0Q       282740618     Le secret de Green Knowe    N   \n",
       "2   19  1423165691       883799517         A Disney Sketchbook.    N   \n",
       "3   33  0061091480       623343977         Your Erroneous Zones    N   \n",
       "4   34  B00HZ4CYOY       647510225  König der Mathematik Junior    N   \n",
       "\n",
       "  verified_purchase     review_headline  \\\n",
       "0                 Y          green zone   \n",
       "1                 Y                None   \n",
       "2                 N        okay mais...   \n",
       "3                 N            Arrogant   \n",
       "4                 Y  Tớllé Máthé Ápp...   \n",
       "\n",
       "                                         review_body review_date  \\\n",
       "0  I found at first it was a little difficult to ...  2010-11-15   \n",
       "1  J'ai aimé cette histoire. Les acteurs - et sur...  2014-11-23   \n",
       "2  est-ce une coincidence que la plupart des prin...  2012-12-22   \n",
       "3  Wáyné Dyér is á pớpúlár áméricán pérsớnál grớw...  2009-07-21   \n",
       "4  .....unsere Kids mögen diese Art des Lernens. ...  2015-06-01   \n",
       "\n",
       "  marketplace_id product_category_id  label  \n",
       "0              1                   3  False  \n",
       "1              2                   3  False  \n",
       "2              0                   0  False  \n",
       "3              0                   0   True  \n",
       "4              0                   1  False  "
      ]
     },
     "execution_count": 6,
     "metadata": {},
     "output_type": "execute_result"
    }
   ],
   "source": [
    "validator = context.get_validator(\n",
    "    batch_request=batch_request,\n",
    "    expectation_suite_name=\"my_expectation_suite\",\n",
    ")\n",
    "validator.head()"
   ]
  },
  {
   "cell_type": "code",
   "execution_count": 7,
   "metadata": {},
   "outputs": [
    {
     "data": {
      "application/vnd.jupyter.widget-view+json": {
       "model_id": "985ed2a3fd844ae59067fb79f1d5bac6",
       "version_major": 2,
       "version_minor": 0
      },
      "text/plain": [
       "Calculating Metrics:   0%|          | 0/8 [00:00<?, ?it/s]"
      ]
     },
     "metadata": {},
     "output_type": "display_data"
    },
    {
     "data": {
      "text/plain": [
       "{\n",
       "  \"success\": true,\n",
       "  \"result\": {\n",
       "    \"element_count\": 1200,\n",
       "    \"unexpected_count\": 0,\n",
       "    \"unexpected_percent\": 0.0,\n",
       "    \"partial_unexpected_list\": []\n",
       "  },\n",
       "  \"meta\": {},\n",
       "  \"exception_info\": {\n",
       "    \"raised_exception\": false,\n",
       "    \"exception_traceback\": null,\n",
       "    \"exception_message\": null\n",
       "  }\n",
       "}"
      ]
     },
     "execution_count": 7,
     "metadata": {},
     "output_type": "execute_result"
    }
   ],
   "source": [
    "validator.expect_column_values_to_not_be_null(column=\"label\")\n",
    "\n"
   ]
  },
  {
   "cell_type": "code",
   "execution_count": null,
   "metadata": {},
   "outputs": [],
   "source": [
    "validator.expectation_suite"
   ]
  },
  {
   "cell_type": "code",
   "execution_count": null,
   "metadata": {},
   "outputs": [],
   "source": []
  },
  {
   "cell_type": "code",
   "execution_count": 8,
   "metadata": {},
   "outputs": [],
   "source": [
    "validator.save_expectation_suite(discard_failed_expectations=False)\n",
    "\n"
   ]
  },
  {
   "cell_type": "markdown",
   "metadata": {},
   "source": []
  },
  {
   "cell_type": "code",
   "execution_count": null,
   "metadata": {},
   "outputs": [],
   "source": []
  }
 ],
 "metadata": {
  "kernelspec": {
   "display_name": ".venv",
   "language": "python",
   "name": "python3"
  },
  "language_info": {
   "codemirror_mode": {
    "name": "ipython",
    "version": 3
   },
   "file_extension": ".py",
   "mimetype": "text/x-python",
   "name": "python",
   "nbconvert_exporter": "python",
   "pygments_lexer": "ipython3",
   "version": "3.12.2"
  }
 },
 "nbformat": 4,
 "nbformat_minor": 2
}
