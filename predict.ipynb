{
 "cells": [
  {
   "cell_type": "code",
   "execution_count": 1,
   "metadata": {},
   "outputs": [
    {
     "name": "stderr",
     "output_type": "stream",
     "text": [
      "24/03/13 13:00:16 WARN Utils: Your hostname, Juliuss-MacBook-Pro-2.local resolves to a loopback address: 127.0.0.1; using 172.18.14.183 instead (on interface en0)\n",
      "24/03/13 13:00:16 WARN Utils: Set SPARK_LOCAL_IP if you need to bind to another address\n",
      "Setting default log level to \"WARN\".\n",
      "To adjust logging level use sc.setLogLevel(newLevel). For SparkR, use setLogLevel(newLevel).\n",
      "24/03/13 13:00:17 WARN NativeCodeLoader: Unable to load native-hadoop library for your platform... using builtin-java classes where applicable\n"
     ]
    }
   ],
   "source": [
    "from DataLoader import DataLoader\n",
    "from DataCleaner import DataCleaner\n",
    "from DataSplit import DataSplit, DataSet\n",
    "val_data = DataLoader(DataSplit.VALIDATION).data\n",
    "test_data = DataLoader(DataSplit.TEST).data"
   ]
  },
  {
   "cell_type": "code",
   "execution_count": 2,
   "metadata": {},
   "outputs": [
    {
     "name": "stdout",
     "output_type": "stream",
     "text": [
      "+---+----------+--------------+--------------------+----+-----------------+--------------------+--------------------+-----------+--------------+-------------------+\n",
      "|   |product_id|product_parent|       product_title|vine|verified_purchase|     review_headline|         review_body|review_date|marketplace_id|product_category_id|\n",
      "+---+----------+--------------+--------------------+----+-----------------+--------------------+--------------------+-----------+--------------+-------------------+\n",
      "|  0|B00007M8K9|     792762056|Harry Potter à l'...|   N|                N|harry potter, sup...|On retrouve dans ...| 2003-01-14|             0|                  0|\n",
      "| 32|B00EZCVFLM|     149870638|Loved Me Back to ...|   N|                Y|      Géschmácksáché|Wie gesagt ist Mu...| 2014-01-05|             0|                  6|\n",
      "| 35|0857522310|     627793267|The Girl on the T...|   N|                Y|          Five Stars|Brought this for ...| 2015-07-10|             1|                  0|\n",
      "| 48|B00AYZLCZ8|     108403123|The Next Day  (De...|   N|                Y|Vielleicht gibts ...|Als großer Bowie-...| 2013-04-05|             0|                  6|\n",
      "| 61|B00IYOACQ6|     729049801|Can You Escape - ...|   N|                Y|Can you excape-Tower|Its not my sort o...| 2014-06-01|             1|                  1|\n",
      "| 62|B00B1SKERO|      77682141|Le Hobbit : Un vo...|   N|                N|                 Nul|Comme il a été di...| 2013-03-17|             2|                  3|\n",
      "| 73|B00NCKVJEG|     342866536|Moshi - SenseCove...|   N|                Y|           bien mais|delai de livraiso...| 2015-02-15|             2|                 13|\n",
      "|102|B000V2SH1Q|     683164597|High School Music...|   N|                Y|          dié zwéité|highschớớl músicá...| 2007-10-22|             0|                  3|\n",
      "|106|B002RHGYOA|     382448153|The Girl Who Play...|   N|                Y|            Gripping|Absolutely grippi...| 2015-01-17|             1|                 10|\n",
      "|122|B007L3BMGA|     600633062|Fifty Shades of G...|   N|                Y|Brilliant despera...|I bought this boo...| 2012-07-07|             1|                  4|\n",
      "|124|B00004Y6NM|       6094739|      Behind the Sun|   N|                N|   Verkanntes Album?|Eric Clapton hat ...| 2015-07-23|             0|                  6|\n",
      "|131|B006DGOV9Q|     331972693|Günstig und einwa...|   N|                Y|Samsung EBF1A2GBU...|Ich war skeptisch...| 2013-05-02|             3|                 17|\n",
      "|140|B0028K3192|     653122578|  BLACKSummer'snight|   N|                N|   A WELCOME RETURN!|Eight years on an...| 2009-11-06|             1|                  6|\n",
      "|141|2253150711|     708473678|Stupeur et Trembl...|   N|                N|Bon boulot Amélie!!!|Au point de vue t...| 2001-11-03|             2|                 15|\n",
      "|142|B003HC8I5M|     458754151|          Going Back|   N|                N|Un album de repri...|Contrairement au ...| 2010-09-14|             0|                  6|\n",
      "|148|0316247545|     695363788|My Little Pony: T...|   N|                Y|A la fois objet d...|Sceptique au débu...| 2013-06-09|             2|                  0|\n",
      "|154|B003XTWCQK|     593358394|The Traveling Wil...|   N|                N|Musikhistorischer...|Mit dem Video auf...| 2013-09-07|             0|                 12|\n",
      "|156|B007FG9LIE|     788088554|Pines (The Waywar...|   N|                Y|Absolutely fantastic|This book really ...| 2014-04-09|             1|                  4|\n",
      "|159|B005WGIJPA|     669695471|LEGO Super Heroes...|   N|                Y|          Five Stars|excellent fast de...| 2015-02-23|             1|                  2|\n",
      "|163|075533146X|     503057596| Pride and Prejudice|   N|                N|My favorite class...|This book has age...| 2007-03-13|             1|                  0|\n",
      "+---+----------+--------------+--------------------+----+-----------------+--------------------+--------------------+-----------+--------------+-------------------+\n",
      "only showing top 20 rows\n",
      "\n"
     ]
    }
   ],
   "source": [
    "val_data.df.show()"
   ]
  },
  {
   "cell_type": "code",
   "execution_count": 4,
   "metadata": {},
   "outputs": [],
   "source": [
    "cleaned_val_data = DataCleaner(val_data).data"
   ]
  },
  {
   "cell_type": "code",
   "execution_count": null,
   "metadata": {},
   "outputs": [],
   "source": [
    "val_df.show()"
   ]
  },
  {
   "cell_type": "code",
   "execution_count": null,
   "metadata": {},
   "outputs": [],
   "source": [
    "from pyspark.sql.functions import lit\n",
    "\n",
    "# tried every fucking possible data type for true and false, \n",
    "# but when submitting predictions, the website always complains that\n",
    "# \"predictions can only be 'True' or 'False\"...\"\n",
    "val_df = val_df.withColumn(\"label\", lit(\"True\").cast(\"string\"))\n",
    "# set datatype to string\n",
    "\n",
    "test_df = test_df.withColumn(\"label\", lit(\"False\").cast(\"string\"))\n",
    "\n"
   ]
  },
  {
   "cell_type": "code",
   "execution_count": null,
   "metadata": {},
   "outputs": [],
   "source": [
    "# check if all avlues of label column are 'true'\n",
    "val_df.groupBy(\"label\").count().show()\n",
    "test_df.groupBy(\"label\").count().show()"
   ]
  },
  {
   "cell_type": "code",
   "execution_count": null,
   "metadata": {},
   "outputs": [],
   "source": []
  },
  {
   "cell_type": "code",
   "execution_count": null,
   "metadata": {},
   "outputs": [],
   "source": [
    "val_df = val_df.select(\"label\")\n",
    "test_df = test_df.select(\"label\")"
   ]
  },
  {
   "cell_type": "code",
   "execution_count": null,
   "metadata": {},
   "outputs": [],
   "source": [
    "# val_df.show()\n",
    "# val_df.index"
   ]
  },
  {
   "cell_type": "code",
   "execution_count": null,
   "metadata": {},
   "outputs": [],
   "source": [
    "val_df.write.csv(f'predictions/validation.csv', mode=\"overwrite\", header=False)\n",
    "test_df.write.csv(f'predictions/test.csv', mode=\"overwrite\", header=False)\n",
    "                  "
   ]
  },
  {
   "cell_type": "code",
   "execution_count": null,
   "metadata": {},
   "outputs": [],
   "source": [
    "# export to .csv\n",
    "# df.write.csv(\"predictions/validation.csv\", header=True)"
   ]
  },
  {
   "cell_type": "code",
   "execution_count": null,
   "metadata": {},
   "outputs": [],
   "source": [
    "# add column label\n"
   ]
  },
  {
   "cell_type": "code",
   "execution_count": null,
   "metadata": {},
   "outputs": [],
   "source": []
  },
  {
   "cell_type": "code",
   "execution_count": null,
   "metadata": {},
   "outputs": [],
   "source": []
  },
  {
   "cell_type": "code",
   "execution_count": null,
   "metadata": {},
   "outputs": [],
   "source": []
  },
  {
   "cell_type": "code",
   "execution_count": null,
   "metadata": {},
   "outputs": [],
   "source": []
  }
 ],
 "metadata": {
  "kernelspec": {
   "display_name": ".venv",
   "language": "python",
   "name": "python3"
  },
  "language_info": {
   "codemirror_mode": {
    "name": "ipython",
    "version": 3
   },
   "file_extension": ".py",
   "mimetype": "text/x-python",
   "name": "python",
   "nbconvert_exporter": "python",
   "pygments_lexer": "ipython3",
   "version": "3.12.2"
  }
 },
 "nbformat": 4,
 "nbformat_minor": 2
}
