{
 "cells": [
  {
   "cell_type": "code",
   "execution_count": 1,
   "metadata": {},
   "outputs": [
    {
     "name": "stderr",
     "output_type": "stream",
     "text": [
      "/Users/julius/repos/BD-Project/.venv/lib/python3.12/site-packages/tqdm/auto.py:21: TqdmWarning: IProgress not found. Please update jupyter and ipywidgets. See https://ipywidgets.readthedocs.io/en/stable/user_install.html\n",
      "  from .autonotebook import tqdm as notebook_tqdm\n"
     ]
    }
   ],
   "source": [
    "from Pipeline import PipeLine\n",
    "from DataSplit import DataSplit"
   ]
  },
  {
   "cell_type": "code",
   "execution_count": 2,
   "metadata": {},
   "outputs": [
    {
     "name": "stderr",
     "output_type": "stream",
     "text": [
      "24/03/13 15:17:39 WARN Utils: Your hostname, Juliuss-MacBook-Pro-2.local resolves to a loopback address: 127.0.0.1; using 172.18.14.183 instead (on interface en0)\n",
      "24/03/13 15:17:39 WARN Utils: Set SPARK_LOCAL_IP if you need to bind to another address\n",
      "Setting default log level to \"WARN\".\n",
      "To adjust logging level use sc.setLogLevel(newLevel). For SparkR, use setLogLevel(newLevel).\n",
      "24/03/13 15:17:39 WARN NativeCodeLoader: Unable to load native-hadoop library for your platform... using builtin-java classes where applicable\n"
     ]
    }
   ],
   "source": [
    "pipeline = PipeLine(DataSplit.TRAIN)"
   ]
  },
  {
   "cell_type": "code",
   "execution_count": 3,
   "metadata": {},
   "outputs": [
    {
     "name": "stderr",
     "output_type": "stream",
     "text": [
      "24/03/13 15:17:43 WARN CSVHeaderChecker: CSV header does not conform to the schema.\n",
      " Header: , product_id, product_parent, product_title, vine, verified_purchase, review_headline, review_body, review_date, marketplace_id, product_category_id, label\n",
      " Schema: id, product_id, product_parent, product_title, vine, verified_purchase, review_headline, review_body, review_date, marketplace_id, product_category_id, label\n",
      "Expected: id but found: \n",
      "CSV file: file:///Users/julius/repos/BD-Project/data/train-7.csv\n",
      "24/03/13 15:17:43 WARN CSVHeaderChecker: CSV header does not conform to the schema.\n",
      " Header: , product_id, product_parent, product_title, vine, verified_purchase, review_headline, review_body, review_date, marketplace_id, product_category_id, label\n",
      " Schema: id, product_id, product_parent, product_title, vine, verified_purchase, review_headline, review_body, review_date, marketplace_id, product_category_id, label\n",
      "Expected: id but found: \n",
      "CSV file: file:///Users/julius/repos/BD-Project/data/train-1.csv\n",
      "24/03/13 15:17:43 WARN CSVHeaderChecker: CSV header does not conform to the schema.\n",
      " Header: , product_id, product_parent, product_title, vine, verified_purchase, review_headline, review_body, review_date, marketplace_id, product_category_id, label\n",
      " Schema: id, product_id, product_parent, product_title, vine, verified_purchase, review_headline, review_body, review_date, marketplace_id, product_category_id, label\n",
      "Expected: id but found: \n",
      "CSV file: file:///Users/julius/repos/BD-Project/data/train-8.csv\n",
      "24/03/13 15:17:43 WARN CSVHeaderChecker: CSV header does not conform to the schema.\n",
      " Header: , product_id, product_parent, product_title, vine, verified_purchase, review_headline, review_body, review_date, marketplace_id, product_category_id, label\n",
      " Schema: id, product_id, product_parent, product_title, vine, verified_purchase, review_headline, review_body, review_date, marketplace_id, product_category_id, label\n",
      "Expected: id but found: \n",
      "CSV file: file:///Users/julius/repos/BD-Project/data/train-2.csv\n",
      "24/03/13 15:17:43 WARN CSVHeaderChecker: CSV header does not conform to the schema.\n",
      " Header: , product_id, product_parent, product_title, vine, verified_purchase, review_headline, review_body, review_date, marketplace_id, product_category_id, label\n",
      " Schema: id, product_id, product_parent, product_title, vine, verified_purchase, review_headline, review_body, review_date, marketplace_id, product_category_id, label\n",
      "Expected: id but found: \n",
      "CSV file: file:///Users/julius/repos/BD-Project/data/train-6.csv\n",
      "24/03/13 15:17:43 WARN CSVHeaderChecker: CSV header does not conform to the schema.\n",
      " Header: , product_id, product_parent, product_title, vine, verified_purchase, review_headline, review_body, review_date, marketplace_id, product_category_id, label\n",
      " Schema: id, product_id, product_parent, product_title, vine, verified_purchase, review_headline, review_body, review_date, marketplace_id, product_category_id, label\n",
      "Expected: id but found: \n",
      "CSV file: file:///Users/julius/repos/BD-Project/data/train-3.csv\n",
      "24/03/13 15:17:43 WARN CSVHeaderChecker: CSV header does not conform to the schema.\n",
      " Header: , product_id, product_parent, product_title, vine, verified_purchase, review_headline, review_body, review_date, marketplace_id, product_category_id, label\n",
      " Schema: id, product_id, product_parent, product_title, vine, verified_purchase, review_headline, review_body, review_date, marketplace_id, product_category_id, label\n",
      "Expected: id but found: \n",
      "CSV file: file:///Users/julius/repos/BD-Project/data/train-4.csv\n",
      "24/03/13 15:17:43 WARN CSVHeaderChecker: CSV header does not conform to the schema.\n",
      " Header: , product_id, product_parent, product_title, vine, verified_purchase, review_headline, review_body, review_date, marketplace_id, product_category_id, label\n",
      " Schema: id, product_id, product_parent, product_title, vine, verified_purchase, review_headline, review_body, review_date, marketplace_id, product_category_id, label\n",
      "Expected: id but found: \n",
      "CSV file: file:///Users/julius/repos/BD-Project/data/train-5.csv\n",
      "Java HotSpot(TM) 64-Bit Server VM warning: CodeCache is full. Compiler has been disabled.\n",
      "Java HotSpot(TM) 64-Bit Server VM warning: Try increasing the code cache size using -XX:ReservedCodeCacheSize=\n"
     ]
    },
    {
     "name": "stdout",
     "output_type": "stream",
     "text": [
      "CodeCache: size=131072Kb used=23064Kb max_used=23064Kb free=108007Kb\n",
      " bounds [0x00000001079e0000, 0x0000000109090000, 0x000000010f9e0000]\n",
      " total_blobs=9123 nmethods=8193 adapters=842\n",
      " compilation: disabled (not enough contiguous free space left)\n",
      "Removed 0 duplicate rows.\n"
     ]
    }
   ],
   "source": [
    "df = pipeline.run()"
   ]
  },
  {
   "cell_type": "code",
   "execution_count": 4,
   "metadata": {},
   "outputs": [
    {
     "name": "stderr",
     "output_type": "stream",
     "text": [
      "24/03/13 15:17:45 WARN CSVHeaderChecker: CSV header does not conform to the schema.\n",
      " Header: , product_id, product_parent, product_title, vine, verified_purchase, review_headline, review_body, review_date, marketplace_id, product_category_id, label\n",
      " Schema: id, product_id, product_parent, product_title, vine, verified_purchase, review_headline, review_body, review_date, marketplace_id, product_category_id, label\n",
      "Expected: id but found: \n",
      "CSV file: file:///Users/julius/repos/BD-Project/data/train-6.csv\n"
     ]
    },
    {
     "name": "stdout",
     "output_type": "stream",
     "text": [
      "+---+----------+--------------+--------------------+----+-----------------+--------------------+--------------------+-----------+--------------+-------------------+-----+---------------+-------------+-------------+\n",
      "| id|product_id|product_parent|       product_title|vine|verified_purchase|     review_headline|         review_body|review_date|marketplace_id|product_category_id|label|review_language|review_length|header_length|\n",
      "+---+----------+--------------+--------------------+----+-----------------+--------------------+--------------------+-----------+--------------+-------------------+-----+---------------+-------------+-------------+\n",
      "|  1|B00FAPF5U0|      46324555|    Candy Crush Saga|   N|                Y|brilliant but ann...|I took ages to si...| 2013-11-13|             1|                  1|False|             en|          160|           22|\n",
      "|  4|0141319135|     871827197|Percy Jackson and...|   N|                N|                NULL|Sadly I am still ...| 2010-03-23|             2|                  0| True|             en|          381|            0|\n",
      "| 17|B000VUVGAM|      62113606|Halloween Blu-ray...|   N|                Y|   Excellent version|Ok, I've had this...| 2009-10-28|             1|                  3| True|             en|          307|           17|\n",
      "| 21|B00DE6NGOO|     496520461|La Petite sirène ...|   N|                Y|                NULL|Dvd et blu ray il...| 2013-12-10|             2|                  3|False|             fr|          148|            0|\n",
      "| 30|B00E0MCYPS|     304179437|        Pocket Rally|   N|                Y|       finde ich gut|Mir géfällt dié Á...| 2014-05-21|             0|                  0|False|             hu|          189|           13|\n",
      "| 52|B00C0K6NUY|     702355901|Broken Angels (Ka...|   N|                Y|          Five Stars|Brilliant worthy ...| 2014-12-15|             1|                 10|False|             en|           81|           10|\n",
      "| 54|B006FOVZQS|     706042866|Lioness: Hidden T...|   N|                Y|    hớhé Érwártúngén|Amy Winehouse hat...| 2013-02-03|             0|                 12|False|             de|          193|           16|\n",
      "| 56|B00AQL8VU4|     496201564|  Amazon for Tablets|   N|                Y|          Five Stars|           Excellent| 2014-10-26|             1|                  1|False|             ca|            9|           10|\n",
      "| 57|B006U4SHMS|     974513179|Enesco 4029715 Gu...|   N|                Y|Erwartungen &uuml...|Ich finde Zwergsp...| 2015-02-06|             0|                  2| True|             de|          519|           29|\n",
      "| 60|B00005RDPX|     481781869|Windtalkers [DVD]...|   N|                Y|          Five Stars|            NICE DVD| 2014-09-29|             1|                  3|False|             de|            8|           10|\n",
      "| 71|B004GJDQT8|      36653526|  Amazon Underground|   N|                Y|                poor|Worked fine when ...| 2013-07-02|             0|                  1| True|             en|          131|            4|\n",
      "| 88|B00AW9MB4W|     113810823|Ender's Game [Blu...|   N|                Y|A much better mov...|I knew nothing ab...| 2015-08-23|             1|                  3|False|             en|         1284|           45|\n",
      "|111|B00KC5O5HW|      67426103|Between Heartbrea...|   N|                N|               Great|I really enjoy th...| 2015-03-26|             2|                  4|False|             en|          195|            5|\n",
      "|118|B001BYMKRO|     101257542|Mamma Mia! The Mo...|   N|                N|        Bad Language|Sorry to be a spo...| 2009-01-16|             1|                  3| True|             en|          538|           12|\n",
      "|121|B004SBQGHS|     541673691|Angry Birds (Ad-F...|   N|                Y|      Vớllér Wérbúng|Obwohl dies Spiel...| 2013-08-30|             3|                  0| True|             de|          360|           14|\n",
      "|125|B000000H57|      96250911|        October Rust|   N|                Y|Chef d'Oeuvre got...|Une des 4 pièces ...| 2014-06-01|             2|                  6| True|             fr|          249|           44|\n",
      "|139|B0000AGDMJ|     579654184|Das Leben des Dav...|   N|                N|Dás Bésté, wás ic...|Dér Film hátté sc...| 2007-12-31|             0|                 11| True|             hu|          284|           43|\n",
      "|165|B003AM95OM|      53815042| Jaquette différente|   N|                Y|      2012 [Blu-ray]|La jaquette du fi...| 2012-07-05|             2|                  3|False|             fr|          151|           14|\n",
      "|170|B0000252BG|     514416658|              Aenima|   N|                N|anything Keenan t...|It's perhaps not ...| 2001-07-21|             1|                 16|False|             en|          204|           37|\n",
      "|175|0857522310|     627793267|The Girl on the T...|   N|                Y|Bit confusing goi...|Dont usually read...| 2015-07-13|             0|                  0|False|             en|          189|           93|\n",
      "+---+----------+--------------+--------------------+----+-----------------+--------------------+--------------------+-----------+--------------+-------------------+-----+---------------+-------------+-------------+\n",
      "only showing top 20 rows\n",
      "\n"
     ]
    }
   ],
   "source": [
    "df.show()"
   ]
  },
  {
   "cell_type": "code",
   "execution_count": 5,
   "metadata": {},
   "outputs": [
    {
     "name": "stderr",
     "output_type": "stream",
     "text": [
      "24/03/13 15:17:46 WARN CSVHeaderChecker: CSV header does not conform to the schema.\n",
      " Header: , product_id, product_parent, product_title, vine, verified_purchase, review_headline, review_body, review_date, marketplace_id, product_category_id, label\n",
      " Schema: id, product_id, product_parent, product_title, vine, verified_purchase, review_headline, review_body, review_date, marketplace_id, product_category_id, label\n",
      "Expected: id but found: \n",
      "CSV file: file:///Users/julius/repos/BD-Project/data/train-7.csv\n",
      "24/03/13 15:17:46 WARN CSVHeaderChecker: CSV header does not conform to the schema.\n",
      " Header: , product_id, product_parent, product_title, vine, verified_purchase, review_headline, review_body, review_date, marketplace_id, product_category_id, label\n",
      " Schema: id, product_id, product_parent, product_title, vine, verified_purchase, review_headline, review_body, review_date, marketplace_id, product_category_id, label\n",
      "Expected: id but found: \n",
      "CSV file: file:///Users/julius/repos/BD-Project/data/train-5.csv\n",
      "24/03/13 15:17:46 WARN CSVHeaderChecker: CSV header does not conform to the schema.\n",
      " Header: , product_id, product_parent, product_title, vine, verified_purchase, review_headline, review_body, review_date, marketplace_id, product_category_id, label\n",
      " Schema: id, product_id, product_parent, product_title, vine, verified_purchase, review_headline, review_body, review_date, marketplace_id, product_category_id, label\n",
      "Expected: id but found: \n",
      "CSV file: file:///Users/julius/repos/BD-Project/data/train-6.csv\n",
      "24/03/13 15:17:46 WARN CSVHeaderChecker: CSV header does not conform to the schema.\n",
      " Header: , product_id, product_parent, product_title, vine, verified_purchase, review_headline, review_body, review_date, marketplace_id, product_category_id, label\n",
      " Schema: id, product_id, product_parent, product_title, vine, verified_purchase, review_headline, review_body, review_date, marketplace_id, product_category_id, label\n",
      "Expected: id but found: \n",
      "CSV file: file:///Users/julius/repos/BD-Project/data/train-2.csv\n",
      "24/03/13 15:17:46 WARN CSVHeaderChecker: CSV header does not conform to the schema.\n",
      " Header: , product_id, product_parent, product_title, vine, verified_purchase, review_headline, review_body, review_date, marketplace_id, product_category_id, label\n",
      " Schema: id, product_id, product_parent, product_title, vine, verified_purchase, review_headline, review_body, review_date, marketplace_id, product_category_id, label\n",
      "Expected: id but found: \n",
      "CSV file: file:///Users/julius/repos/BD-Project/data/train-3.csv\n",
      "24/03/13 15:17:46 WARN CSVHeaderChecker: CSV header does not conform to the schema.\n",
      " Header: , product_id, product_parent, product_title, vine, verified_purchase, review_headline, review_body, review_date, marketplace_id, product_category_id, label\n",
      " Schema: id, product_id, product_parent, product_title, vine, verified_purchase, review_headline, review_body, review_date, marketplace_id, product_category_id, label\n",
      "Expected: id but found: \n",
      "CSV file: file:///Users/julius/repos/BD-Project/data/train-1.csv\n",
      "24/03/13 15:17:46 WARN CSVHeaderChecker: CSV header does not conform to the schema.\n",
      " Header: , product_id, product_parent, product_title, vine, verified_purchase, review_headline, review_body, review_date, marketplace_id, product_category_id, label\n",
      " Schema: id, product_id, product_parent, product_title, vine, verified_purchase, review_headline, review_body, review_date, marketplace_id, product_category_id, label\n",
      "Expected: id but found: \n",
      "CSV file: file:///Users/julius/repos/BD-Project/data/train-4.csv\n",
      "24/03/13 15:17:46 WARN CSVHeaderChecker: CSV header does not conform to the schema.\n",
      " Header: , product_id, product_parent, product_title, vine, verified_purchase, review_headline, review_body, review_date, marketplace_id, product_category_id, label\n",
      " Schema: id, product_id, product_parent, product_title, vine, verified_purchase, review_headline, review_body, review_date, marketplace_id, product_category_id, label\n",
      "Expected: id but found: \n",
      "CSV file: file:///Users/julius/repos/BD-Project/data/train-8.csv\n",
      "                                                                                \r"
     ]
    }
   ],
   "source": [
    "sampled_data = df\\\n",
    "    .sample(withReplacement=False, fraction=0.1, seed=42)\\\n",
    "    .toPandas()"
   ]
  },
  {
   "cell_type": "code",
   "execution_count": 6,
   "metadata": {},
   "outputs": [
    {
     "name": "stdout",
     "output_type": "stream",
     "text": [
      "+---+----------+--------------+--------------------+----+-----------------+--------------------+--------------------+-----------+--------------+-------------------+-----+---------------+-------------+-------------+\n",
      "| id|product_id|product_parent|       product_title|vine|verified_purchase|     review_headline|         review_body|review_date|marketplace_id|product_category_id|label|review_language|review_length|header_length|\n",
      "+---+----------+--------------+--------------------+----+-----------------+--------------------+--------------------+-----------+--------------+-------------------+-----+---------------+-------------+-------------+\n",
      "|  1|B00FAPF5U0|      46324555|    Candy Crush Saga|   N|                Y|brilliant but ann...|I took ages to si...| 2013-11-13|             1|                  1|False|             en|          160|           22|\n",
      "|  4|0141319135|     871827197|Percy Jackson and...|   N|                N|                NULL|Sadly I am still ...| 2010-03-23|             2|                  0| True|             en|          381|            0|\n",
      "| 17|B000VUVGAM|      62113606|Halloween Blu-ray...|   N|                Y|   Excellent version|Ok, I've had this...| 2009-10-28|             1|                  3| True|             en|          307|           17|\n",
      "| 21|B00DE6NGOO|     496520461|La Petite sirène ...|   N|                Y|                NULL|Dvd et blu ray il...| 2013-12-10|             2|                  3|False|             fr|          148|            0|\n",
      "| 30|B00E0MCYPS|     304179437|        Pocket Rally|   N|                Y|       finde ich gut|Mir géfällt dié Á...| 2014-05-21|             0|                  0|False|             hu|          189|           13|\n",
      "| 52|B00C0K6NUY|     702355901|Broken Angels (Ka...|   N|                Y|          Five Stars|Brilliant worthy ...| 2014-12-15|             1|                 10|False|             en|           81|           10|\n",
      "| 54|B006FOVZQS|     706042866|Lioness: Hidden T...|   N|                Y|    hớhé Érwártúngén|Amy Winehouse hat...| 2013-02-03|             0|                 12|False|             de|          193|           16|\n",
      "| 56|B00AQL8VU4|     496201564|  Amazon for Tablets|   N|                Y|          Five Stars|           Excellent| 2014-10-26|             1|                  1|False|             ca|            9|           10|\n",
      "| 57|B006U4SHMS|     974513179|Enesco 4029715 Gu...|   N|                Y|Erwartungen &uuml...|Ich finde Zwergsp...| 2015-02-06|             0|                  2| True|             de|          519|           29|\n",
      "| 60|B00005RDPX|     481781869|Windtalkers [DVD]...|   N|                Y|          Five Stars|            NICE DVD| 2014-09-29|             1|                  3|False|             de|            8|           10|\n",
      "| 71|B004GJDQT8|      36653526|  Amazon Underground|   N|                Y|                poor|Worked fine when ...| 2013-07-02|             0|                  1| True|             en|          131|            4|\n",
      "| 88|B00AW9MB4W|     113810823|Ender's Game [Blu...|   N|                Y|A much better mov...|I knew nothing ab...| 2015-08-23|             1|                  3|False|             en|         1284|           45|\n",
      "|111|B00KC5O5HW|      67426103|Between Heartbrea...|   N|                N|               Great|I really enjoy th...| 2015-03-26|             2|                  4|False|             en|          195|            5|\n",
      "|118|B001BYMKRO|     101257542|Mamma Mia! The Mo...|   N|                N|        Bad Language|Sorry to be a spo...| 2009-01-16|             1|                  3| True|             en|          538|           12|\n",
      "|121|B004SBQGHS|     541673691|Angry Birds (Ad-F...|   N|                Y|      Vớllér Wérbúng|Obwohl dies Spiel...| 2013-08-30|             3|                  0| True|             de|          360|           14|\n",
      "|125|B000000H57|      96250911|        October Rust|   N|                Y|Chef d'Oeuvre got...|Une des 4 pièces ...| 2014-06-01|             2|                  6| True|             fr|          249|           44|\n",
      "|139|B0000AGDMJ|     579654184|Das Leben des Dav...|   N|                N|Dás Bésté, wás ic...|Dér Film hátté sc...| 2007-12-31|             0|                 11| True|             hu|          284|           43|\n",
      "|165|B003AM95OM|      53815042| Jaquette différente|   N|                Y|      2012 [Blu-ray]|La jaquette du fi...| 2012-07-05|             2|                  3|False|             fr|          151|           14|\n",
      "|170|B0000252BG|     514416658|              Aenima|   N|                N|anything Keenan t...|It's perhaps not ...| 2001-07-21|             1|                 16|False|             en|          204|           37|\n",
      "|175|0857522310|     627793267|The Girl on the T...|   N|                Y|Bit confusing goi...|Dont usually read...| 2015-07-13|             0|                  0|False|             en|          189|           93|\n",
      "+---+----------+--------------+--------------------+----+-----------------+--------------------+--------------------+-----------+--------------+-------------------+-----+---------------+-------------+-------------+\n",
      "only showing top 20 rows\n",
      "\n"
     ]
    },
    {
     "name": "stderr",
     "output_type": "stream",
     "text": [
      "24/03/13 15:17:49 WARN CSVHeaderChecker: CSV header does not conform to the schema.\n",
      " Header: , product_id, product_parent, product_title, vine, verified_purchase, review_headline, review_body, review_date, marketplace_id, product_category_id, label\n",
      " Schema: id, product_id, product_parent, product_title, vine, verified_purchase, review_headline, review_body, review_date, marketplace_id, product_category_id, label\n",
      "Expected: id but found: \n",
      "CSV file: file:///Users/julius/repos/BD-Project/data/train-6.csv\n"
     ]
    }
   ],
   "source": [
    "df.show()"
   ]
  },
  {
   "cell_type": "code",
   "execution_count": 7,
   "metadata": {},
   "outputs": [
    {
     "data": {
      "text/plain": [
       "<Axes: xlabel='review_language'>"
      ]
     },
     "execution_count": 7,
     "metadata": {},
     "output_type": "execute_result"
    },
    {
     "data": {
      "image/png": "[encoded data removed]",
      "text/plain": [
       "<Figure size 640x480 with 1 Axes>"
      ]
     },
     "metadata": {},
     "output_type": "display_data"
    }
   ],
   "source": [
    "sampled_data[\"review_language\"].value_counts().plot(kind='bar')"
   ]
  },
  {
   "cell_type": "code",
   "execution_count": 8,
   "metadata": {},
   "outputs": [
    {
     "data": {
      "text/html": [
       "<div>\n",
       "<style scoped>\n",
       "    .dataframe tbody tr th:only-of-type {\n",
       "        vertical-align: middle;\n",
       "    }\n",
       "\n",
       "    .dataframe tbody tr th {\n",
       "        vertical-align: top;\n",
       "    }\n",
       "\n",
       "    .dataframe thead th {\n",
       "        text-align: right;\n",
       "    }\n",
       "</style>\n",
       "<table border=\"1\" class=\"dataframe\">\n",
       "  <thead>\n",
       "    <tr style=\"text-align: right;\">\n",
       "      <th></th>\n",
       "      <th>id</th>\n",
       "      <th>product_id</th>\n",
       "      <th>product_parent</th>\n",
       "      <th>product_title</th>\n",
       "      <th>vine</th>\n",
       "      <th>verified_purchase</th>\n",
       "      <th>review_headline</th>\n",
       "      <th>review_body</th>\n",
       "      <th>review_date</th>\n",
       "      <th>marketplace_id</th>\n",
       "      <th>product_category_id</th>\n",
       "      <th>label</th>\n",
       "      <th>review_language</th>\n",
       "      <th>review_length</th>\n",
       "      <th>header_length</th>\n",
       "    </tr>\n",
       "  </thead>\n",
       "  <tbody>\n",
       "    <tr>\n",
       "      <th>715</th>\n",
       "      <td>8535</td>\n",
       "      <td>B001F1CL1E</td>\n",
       "      <td>593358394</td>\n",
       "      <td>The Traveling Wilburys Collection</td>\n",
       "      <td>N</td>\n",
       "      <td>Y</td>\n",
       "      <td>Five Stars</td>\n",
       "      <td>like this</td>\n",
       "      <td>2015-06-22</td>\n",
       "      <td>1</td>\n",
       "      <td>12</td>\n",
       "      <td>False</td>\n",
       "      <td>sq</td>\n",
       "      <td>9</td>\n",
       "      <td>10</td>\n",
       "    </tr>\n",
       "  </tbody>\n",
       "</table>\n",
       "</div>"
      ],
      "text/plain": [
       "       id  product_id  product_parent                      product_title vine  \\\n",
       "715  8535  B001F1CL1E       593358394  The Traveling Wilburys Collection    N   \n",
       "\n",
       "    verified_purchase review_headline review_body review_date  marketplace_id  \\\n",
       "715                 Y      Five Stars   like this  2015-06-22               1   \n",
       "\n",
       "     product_category_id  label review_language  review_length  header_length  \n",
       "715                   12  False              sq              9             10  "
      ]
     },
     "execution_count": 8,
     "metadata": {},
     "output_type": "execute_result"
    }
   ],
   "source": [
    "m = sampled_data[\"review_language\"] == \"sq\"\n",
    "sampled_data[m]"
   ]
  },
  {
   "cell_type": "code",
   "execution_count": 24,
   "metadata": {},
   "outputs": [],
   "source": [
    "from pyspark.sql import SparkSession\n",
    "from pyspark.ml import Pipeline as SparkPipeline\n",
    "from pyspark.ml import PipelineModel\n",
    "from pyspark.ml.feature import StringIndexer, VectorAssembler\n",
    "from pyspark.ml.classification import RandomForestClassifier\n",
    "from pyspark.ml.evaluation import BinaryClassificationEvaluator\n"
   ]
  },
  {
   "cell_type": "code",
   "execution_count": 25,
   "metadata": {},
   "outputs": [],
   "source": [
    "spark = SparkSession.builder.appName(\"RandomForestExample\").getOrCreate()\n"
   ]
  },
  {
   "cell_type": "code",
   "execution_count": 26,
   "metadata": {},
   "outputs": [],
   "source": [
    "# List of your feature columns\n",
    "featureColumns = [\"review_length\", \"header_length\"]\n",
    "\n",
    "# Assemble the feature columns into a single feature vector\n",
    "assembler = VectorAssembler(inputCols=featureColumns, outputCol=\"features\")\n"
   ]
  },
  {
   "cell_type": "code",
   "execution_count": 27,
   "metadata": {},
   "outputs": [],
   "source": [
    "# If \"label\" is not a numeric column, convert it to numeric using StringIndexer\n",
    "labelIndexer = StringIndexer(inputCol=\"label\", outputCol=\"indexedLabel\").fit(df)\n"
   ]
  },
  {
   "cell_type": "code",
   "execution_count": 28,
   "metadata": {},
   "outputs": [],
   "source": [
    "(trainingData, testData) = df.randomSplit([0.7, 0.3]) # before we submit, we want to train on all training data though.\n"
   ]
  },
  {
   "cell_type": "code",
   "execution_count": 29,
   "metadata": {},
   "outputs": [
    {
     "name": "stderr",
     "output_type": "stream",
     "text": [
      "24/03/13 15:24:38 WARN CSVHeaderChecker: CSV header does not conform to the schema.\n",
      " Header: , product_id, product_parent, product_title, vine, verified_purchase, review_headline, review_body, review_date, marketplace_id, product_category_id, label\n",
      " Schema: id, product_id, product_parent, product_title, vine, verified_purchase, review_headline, review_body, review_date, marketplace_id, product_category_id, label\n",
      "Expected: id but found: \n",
      "CSV file: file:///Users/julius/repos/BD-Project/data/train-6.csv\n",
      "24/03/13 15:24:40 WARN CSVHeaderChecker: CSV header does not conform to the schema.\n",
      " Header: , product_id, product_parent, product_title, vine, verified_purchase, review_headline, review_body, review_date, marketplace_id, product_category_id, label\n",
      " Schema: id, product_id, product_parent, product_title, vine, verified_purchase, review_headline, review_body, review_date, marketplace_id, product_category_id, label\n",
      "Expected: id but found: \n",
      "CSV file: file:///Users/julius/repos/BD-Project/data/train-6.csv\n",
      "24/03/13 15:24:40 WARN CSVHeaderChecker: CSV header does not conform to the schema.\n",
      " Header: , product_id, product_parent, product_title, vine, verified_purchase, review_headline, review_body, review_date, marketplace_id, product_category_id, label\n",
      " Schema: id, product_id, product_parent, product_title, vine, verified_purchase, review_headline, review_body, review_date, marketplace_id, product_category_id, label\n",
      "Expected: id but found: \n",
      "CSV file: file:///Users/julius/repos/BD-Project/data/train-2.csv\n",
      "24/03/13 15:24:40 WARN CSVHeaderChecker: CSV header does not conform to the schema.\n",
      " Header: , product_id, product_parent, product_title, vine, verified_purchase, review_headline, review_body, review_date, marketplace_id, product_category_id, label\n",
      " Schema: id, product_id, product_parent, product_title, vine, verified_purchase, review_headline, review_body, review_date, marketplace_id, product_category_id, label\n",
      "Expected: id but found: \n",
      "CSV file: file:///Users/julius/repos/BD-Project/data/train-3.csv\n",
      "24/03/13 15:24:40 WARN CSVHeaderChecker: CSV header does not conform to the schema.\n",
      " Header: , product_id, product_parent, product_title, vine, verified_purchase, review_headline, review_body, review_date, marketplace_id, product_category_id, label\n",
      " Schema: id, product_id, product_parent, product_title, vine, verified_purchase, review_headline, review_body, review_date, marketplace_id, product_category_id, label\n",
      "Expected: id but found: \n",
      "CSV file: file:///Users/julius/repos/BD-Project/data/train-8.csv\n",
      "24/03/13 15:24:40 WARN CSVHeaderChecker: CSV header does not conform to the schema.\n",
      " Header: , product_id, product_parent, product_title, vine, verified_purchase, review_headline, review_body, review_date, marketplace_id, product_category_id, label\n",
      " Schema: id, product_id, product_parent, product_title, vine, verified_purchase, review_headline, review_body, review_date, marketplace_id, product_category_id, label\n",
      "Expected: id but found: \n",
      "CSV file: file:///Users/julius/repos/BD-Project/data/train-1.csv\n",
      "24/03/13 15:24:40 WARN CSVHeaderChecker: CSV header does not conform to the schema.\n",
      " Header: , product_id, product_parent, product_title, vine, verified_purchase, review_headline, review_body, review_date, marketplace_id, product_category_id, label\n",
      " Schema: id, product_id, product_parent, product_title, vine, verified_purchase, review_headline, review_body, review_date, marketplace_id, product_category_id, label\n",
      "Expected: id but found: \n",
      "CSV file: file:///Users/julius/repos/BD-Project/data/train-4.csv\n",
      "24/03/13 15:24:40 WARN CSVHeaderChecker: CSV header does not conform to the schema.\n",
      " Header: , product_id, product_parent, product_title, vine, verified_purchase, review_headline, review_body, review_date, marketplace_id, product_category_id, label\n",
      " Schema: id, product_id, product_parent, product_title, vine, verified_purchase, review_headline, review_body, review_date, marketplace_id, product_category_id, label\n",
      "Expected: id but found: \n",
      "CSV file: file:///Users/julius/repos/BD-Project/data/train-5.csv\n",
      "24/03/13 15:24:40 WARN CSVHeaderChecker: CSV header does not conform to the schema.\n",
      " Header: , product_id, product_parent, product_title, vine, verified_purchase, review_headline, review_body, review_date, marketplace_id, product_category_id, label\n",
      " Schema: id, product_id, product_parent, product_title, vine, verified_purchase, review_headline, review_body, review_date, marketplace_id, product_category_id, label\n",
      "Expected: id but found: \n",
      "CSV file: file:///Users/julius/repos/BD-Project/data/train-7.csv\n",
      "24/03/13 15:24:42 WARN CSVHeaderChecker: CSV header does not conform to the schema.\n",
      " Header: , product_id, product_parent, product_title, vine, verified_purchase, review_headline, review_body, review_date, marketplace_id, product_category_id, label\n",
      " Schema: id, product_id, product_parent, product_title, vine, verified_purchase, review_headline, review_body, review_date, marketplace_id, product_category_id, label\n",
      "Expected: id but found: \n",
      "CSV file: file:///Users/julius/repos/BD-Project/data/train-4.csv\n",
      "24/03/13 15:24:42 WARN CSVHeaderChecker: CSV header does not conform to the schema.\n",
      " Header: , product_id, product_parent, product_title, vine, verified_purchase, review_headline, review_body, review_date, marketplace_id, product_category_id, label\n",
      " Schema: id, product_id, product_parent, product_title, vine, verified_purchase, review_headline, review_body, review_date, marketplace_id, product_category_id, label\n",
      "Expected: id but found: \n",
      "CSV file: file:///Users/julius/repos/BD-Project/data/train-2.csv\n",
      "24/03/13 15:24:42 WARN CSVHeaderChecker: CSV header does not conform to the schema.\n",
      " Header: , product_id, product_parent, product_title, vine, verified_purchase, review_headline, review_body, review_date, marketplace_id, product_category_id, label\n",
      " Schema: id, product_id, product_parent, product_title, vine, verified_purchase, review_headline, review_body, review_date, marketplace_id, product_category_id, label\n",
      "Expected: id but found: \n",
      "CSV file: file:///Users/julius/repos/BD-Project/data/train-1.csv\n",
      "24/03/13 15:24:42 WARN CSVHeaderChecker: CSV header does not conform to the schema.\n",
      " Header: , product_id, product_parent, product_title, vine, verified_purchase, review_headline, review_body, review_date, marketplace_id, product_category_id, label\n",
      " Schema: id, product_id, product_parent, product_title, vine, verified_purchase, review_headline, review_body, review_date, marketplace_id, product_category_id, label\n",
      "Expected: id but found: \n",
      "CSV file: file:///Users/julius/repos/BD-Project/data/train-6.csv\n",
      "24/03/13 15:24:42 WARN CSVHeaderChecker: CSV header does not conform to the schema.\n",
      " Header: , product_id, product_parent, product_title, vine, verified_purchase, review_headline, review_body, review_date, marketplace_id, product_category_id, label\n",
      " Schema: id, product_id, product_parent, product_title, vine, verified_purchase, review_headline, review_body, review_date, marketplace_id, product_category_id, label\n",
      "Expected: id but found: \n",
      "CSV file: file:///Users/julius/repos/BD-Project/data/train-3.csv\n",
      "24/03/13 15:24:42 WARN CSVHeaderChecker: CSV header does not conform to the schema.\n",
      " Header: , product_id, product_parent, product_title, vine, verified_purchase, review_headline, review_body, review_date, marketplace_id, product_category_id, label\n",
      " Schema: id, product_id, product_parent, product_title, vine, verified_purchase, review_headline, review_body, review_date, marketplace_id, product_category_id, label\n",
      "Expected: id but found: \n",
      "CSV file: file:///Users/julius/repos/BD-Project/data/train-7.csv\n",
      "24/03/13 15:24:42 WARN CSVHeaderChecker: CSV header does not conform to the schema.\n",
      " Header: , product_id, product_parent, product_title, vine, verified_purchase, review_headline, review_body, review_date, marketplace_id, product_category_id, label\n",
      " Schema: id, product_id, product_parent, product_title, vine, verified_purchase, review_headline, review_body, review_date, marketplace_id, product_category_id, label\n",
      "Expected: id but found: \n",
      "CSV file: file:///Users/julius/repos/BD-Project/data/train-5.csv\n",
      "24/03/13 15:24:42 WARN CSVHeaderChecker: CSV header does not conform to the schema.\n",
      " Header: , product_id, product_parent, product_title, vine, verified_purchase, review_headline, review_body, review_date, marketplace_id, product_category_id, label\n",
      " Schema: id, product_id, product_parent, product_title, vine, verified_purchase, review_headline, review_body, review_date, marketplace_id, product_category_id, label\n",
      "Expected: id but found: \n",
      "CSV file: file:///Users/julius/repos/BD-Project/data/train-8.csv\n",
      "24/03/13 15:24:44 WARN CSVHeaderChecker: CSV header does not conform to the schema.\n",
      " Header: , product_id, product_parent, product_title, vine, verified_purchase, review_headline, review_body, review_date, marketplace_id, product_category_id, label\n",
      " Schema: id, product_id, product_parent, product_title, vine, verified_purchase, review_headline, review_body, review_date, marketplace_id, product_category_id, label\n",
      "Expected: id but found: \n",
      "CSV file: file:///Users/julius/repos/BD-Project/data/train-5.csv\n",
      "24/03/13 15:24:44 WARN CSVHeaderChecker: CSV header does not conform to the schema.\n",
      " Header: , product_id, product_parent, product_title, vine, verified_purchase, review_headline, review_body, review_date, marketplace_id, product_category_id, label\n",
      " Schema: id, product_id, product_parent, product_title, vine, verified_purchase, review_headline, review_body, review_date, marketplace_id, product_category_id, label\n",
      "Expected: id but found: \n",
      "CSV file: file:///Users/julius/repos/BD-Project/data/train-2.csv\n",
      "24/03/13 15:24:44 WARN CSVHeaderChecker: CSV header does not conform to the schema.\n",
      " Header: , product_id, product_parent, product_title, vine, verified_purchase, review_headline, review_body, review_date, marketplace_id, product_category_id, label\n",
      " Schema: id, product_id, product_parent, product_title, vine, verified_purchase, review_headline, review_body, review_date, marketplace_id, product_category_id, label\n",
      "Expected: id but found: \n",
      "CSV file: file:///Users/julius/repos/BD-Project/data/train-6.csv\n",
      "24/03/13 15:24:44 WARN CSVHeaderChecker: CSV header does not conform to the schema.\n",
      " Header: , product_id, product_parent, product_title, vine, verified_purchase, review_headline, review_body, review_date, marketplace_id, product_category_id, label\n",
      " Schema: id, product_id, product_parent, product_title, vine, verified_purchase, review_headline, review_body, review_date, marketplace_id, product_category_id, label\n",
      "Expected: id but found: \n",
      "CSV file: file:///Users/julius/repos/BD-Project/data/train-4.csv\n",
      "24/03/13 15:24:44 WARN CSVHeaderChecker: CSV header does not conform to the schema.\n",
      " Header: , product_id, product_parent, product_title, vine, verified_purchase, review_headline, review_body, review_date, marketplace_id, product_category_id, label\n",
      " Schema: id, product_id, product_parent, product_title, vine, verified_purchase, review_headline, review_body, review_date, marketplace_id, product_category_id, label\n",
      "Expected: id but found: \n",
      "CSV file: file:///Users/julius/repos/BD-Project/data/train-3.csv\n",
      "24/03/13 15:24:44 WARN CSVHeaderChecker: CSV header does not conform to the schema.\n",
      " Header: , product_id, product_parent, product_title, vine, verified_purchase, review_headline, review_body, review_date, marketplace_id, product_category_id, label\n",
      " Schema: id, product_id, product_parent, product_title, vine, verified_purchase, review_headline, review_body, review_date, marketplace_id, product_category_id, label\n",
      "Expected: id but found: \n",
      "CSV file: file:///Users/julius/repos/BD-Project/data/train-7.csv\n",
      "24/03/13 15:24:44 WARN CSVHeaderChecker: CSV header does not conform to the schema.\n",
      " Header: , product_id, product_parent, product_title, vine, verified_purchase, review_headline, review_body, review_date, marketplace_id, product_category_id, label\n",
      " Schema: id, product_id, product_parent, product_title, vine, verified_purchase, review_headline, review_body, review_date, marketplace_id, product_category_id, label\n",
      "Expected: id but found: \n",
      "CSV file: file:///Users/julius/repos/BD-Project/data/train-1.csv\n",
      "24/03/13 15:24:44 WARN CSVHeaderChecker: CSV header does not conform to the schema.\n",
      " Header: , product_id, product_parent, product_title, vine, verified_purchase, review_headline, review_body, review_date, marketplace_id, product_category_id, label\n",
      " Schema: id, product_id, product_parent, product_title, vine, verified_purchase, review_headline, review_body, review_date, marketplace_id, product_category_id, label\n",
      "Expected: id but found: \n",
      "CSV file: file:///Users/julius/repos/BD-Project/data/train-8.csv\n",
      "                                                                                \r"
     ]
    }
   ],
   "source": [
    "# Configure the Random Forest model\n",
    "rf = RandomForestClassifier(labelCol=\"indexedLabel\", featuresCol=\"features\", numTrees=10)\n",
    "\n",
    "# Chain indexers and forest in a Pipeline\n",
    "pipeline = SparkPipeline(stages=[labelIndexer, assembler, rf])\n",
    "\n",
    "# Train model\n",
    "model = pipeline.fit(trainingData)\n",
    "# save the model\n",
    "# model.save(\"model\")\n"
   ]
  },
  {
   "cell_type": "code",
   "execution_count": 30,
   "metadata": {},
   "outputs": [],
   "source": [
    "import os\n",
    "if \"model\" in os.listdir():\n",
    "    # delete model dir\n",
    "    os.system(\"rm -r model\")\n",
    "model.save(\"model\")"
   ]
  },
  {
   "cell_type": "code",
   "execution_count": 31,
   "metadata": {},
   "outputs": [
    {
     "ename": "NameError",
     "evalue": "name 'Pip' is not defined",
     "output_type": "error",
     "traceback": [
      "\u001b[0;31m---------------------------------------------------------------------------\u001b[0m",
      "\u001b[0;31mNameError\u001b[0m                                 Traceback (most recent call last)",
      "Cell \u001b[0;32mIn[31], line 1\u001b[0m\n\u001b[0;32m----> 1\u001b[0m model \u001b[38;5;241m=\u001b[39m \u001b[43mPip\u001b[49m\u001b[38;5;241m.\u001b[39mload(\u001b[38;5;124m\"\u001b[39m\u001b[38;5;124mmodel\u001b[39m\u001b[38;5;124m\"\u001b[39m)\n",
      "\u001b[0;31mNameError\u001b[0m: name 'Pip' is not defined"
     ]
    }
   ],
   "source": [
    "model = PipelineModel.load(\"model\")"
   ]
  },
  {
   "cell_type": "code",
   "execution_count": null,
   "metadata": {},
   "outputs": [],
   "source": [
    "predictions = model.transform(testData)\n",
    "\n",
    "# Select example rows to display\n",
    "predictions.select(\"prediction\", \"indexedLabel\", \"features\").show(5)\n"
   ]
  },
  {
   "cell_type": "code",
   "execution_count": null,
   "metadata": {},
   "outputs": [],
   "source": [
    "evaluator = BinaryClassificationEvaluator(labelCol=\"indexedLabel\")\n",
    "accuracy = evaluator.evaluate(predictions)\n",
    "print(f\"accuracy: {accuracy}\")\n"
   ]
  },
  {
   "cell_type": "code",
   "execution_count": null,
   "metadata": {},
   "outputs": [],
   "source": []
  },
  {
   "cell_type": "code",
   "execution_count": null,
   "metadata": {},
   "outputs": [],
   "source": []
  },
  {
   "cell_type": "code",
   "execution_count": null,
   "metadata": {},
   "outputs": [],
   "source": []
  },
  {
   "cell_type": "code",
   "execution_count": null,
   "metadata": {},
   "outputs": [],
   "source": []
  }
 ],
 "metadata": {
  "kernelspec": {
   "display_name": ".venv",
   "language": "python",
   "name": "python3"
  },
  "language_info": {
   "codemirror_mode": {
    "name": "ipython",
    "version": 3
   },
   "file_extension": ".py",
   "mimetype": "text/x-python",
   "name": "python",
   "nbconvert_exporter": "python",
   "pygments_lexer": "ipython3",
   "version": "3.12.2"
  }
 },
 "nbformat": 4,
 "nbformat_minor": 2
}
