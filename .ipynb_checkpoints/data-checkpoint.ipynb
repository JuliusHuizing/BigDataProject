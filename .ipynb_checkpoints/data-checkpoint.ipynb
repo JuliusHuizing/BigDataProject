{
 "cells": [
  {
   "cell_type": "code",
   "execution_count": 4,
   "id": "b0fe5f56-595e-4128-8767-ec5385fa2223",
   "metadata": {},
   "outputs": [],
   "source": [
    "import pandas as pd\n",
    "import os\n",
    "\n",
    "from pyspark.sql import SparkSession\n",
    "from functools import reduce\n",
    "from pyspark.sql import DataFrame\n",
    "from pyspark.sql.functions import col, isnan, when, count\n",
    "from pyspark.ml.feature import Imputer, StringIndexer, OneHotEncoder\n",
    "from pyspark.ml import Pipeline\n",
    "from pyspark.sql.types import StructType, StructField, StringType, IntegerType, FloatType"
   ]
  },
  {
   "cell_type": "code",
   "execution_count": 11,
   "id": "a489eea9-6c09-4d82-9577-b046239ff902",
   "metadata": {},
   "outputs": [
    {
     "name": "stderr",
     "output_type": "stream",
     "text": [
      "24/03/07 11:30:02 WARN CSVHeaderChecker: CSV header does not conform to the schema.\n",
      " Header: , product_id, product_parent, product_title, vine, verified_purchase, review_headline, review_body, review_date, marketplace_id, product_category_id, label\n",
      " Schema: id, product_id, product_parent, product_title, vine, verified_purchase, review_headline, review_body, review_date, marketplace_id, product_category_id, label\n",
      "Expected: id but found: \n",
      "CSV file: file:///home/jovyan/work/data/train-1.csv\n"
     ]
    },
    {
     "name": "stdout",
     "output_type": "stream",
     "text": [
      "+---+----------+--------------+--------------------+----+-----------------+--------------------+--------------------+--------------------+--------------+-------------------+----------+\n",
      "| id|product_id|product_parent|       product_title|vine|verified_purchase|     review_headline|         review_body|         review_date|marketplace_id|product_category_id|     label|\n",
      "+---+----------+--------------+--------------------+----+-----------------+--------------------+--------------------+--------------------+--------------+-------------------+----------+\n",
      "|  9|B001N2MZT8|     903886718|    Green Zone [DVD]|   N|                Y|          green zone|I found at first ...|          2010-11-15|             1|                  3|     False|\n",
      "| 11|B00GCBVE0Q|     282740618|Le secret de Gree...|   N|                Y|                null|J'ai aimé cette h...|          2014-11-23|             2|                  3|     False|\n",
      "| 19|1423165691|     883799517|A Disney Sketchbook.|   N|                N|        okay mais...|est-ce une coinci...|          2012-12-22|             0|                  0|     False|\n",
      "| 33|0061091480|     623343977|Your Erroneous Zones|   N|                N|            Arrogant|Wáyné Dyér is á p...|          2009-07-21|             0|                  0|      True|\n",
      "| 34|B00HZ4CYOY|     647510225|König der Mathema...|   N|                Y|  Tớllé Máthé Ápp...|.....unsere Kids ...|          2015-06-01|             0|                  1|     False|\n",
      "| 40|B0057YFX9C|     240481447|Jason Bourne - Co...|   N|                N|Bluray steelbook ...|Tr&egrave;s beau ...|          2011-10-21|             2|                  3|      True|\n",
      "| 46|B007TK77QE|     165338194|  The Casual Vacancy|   N|                Y|             to long|To long poor end,...|          2013-09-28|             1|                  4|      True|\n",
      "| 49|B00005JYAX|     581643936|             Memento|   N|                N|                null|\"Le film est exce...| mais ce qui est ...|          null|               null|2002-09-28|\n",
      "| 55|B004UPIDDC|     950170023|                 Rio|   N|                N|Brillant, Majestu...|Bien sûr que ce n...|          2011-05-07|             2|                  3|      True|\n",
      "| 68|B00CSGYLQI|     183571812|Disney Princesse ...|   N|                Y|     Très satisfaite|Château facile à ...|          2015-08-31|             0|                  2|     False|\n",
      "| 99|B00FNBYN5O|     525973702|Gravity: Original...|   N|                N|A soundtrack so g...|I loved the film ...|          2014-03-03|             1|                 12|      True|\n",
      "|120|B00AEB7E5E|     218540584|Looper - Edition ...|   N|                Y|Remarque sur le s...|Tout d'abord ce q...|          2013-03-07|             0|                  3|      True|\n",
      "|138|2253166448|     995777095|                Alex|   N|                Y|          Découverte|J'ai découvert ce...|          2012-06-25|             2|                  0|     False|\n",
      "|145|B005ZC7BLO|     501966104|Bones - Season 7 ...|   N|                Y|      Bones Season 7|If you already li...|          2012-12-12|             1|                  3|     False|\n",
      "|160|B00KZ6WRAA|     950959064|        fréd schádén|   N|                Y|  Facebook Messenger|Facebook Messenge...|          2015-07-07|             0|                  1|     False|\n",
      "|196|B00FXLUBVE|     313696235| X-Men - First Class|   N|                Y|          Easy watch|Great easy watch ...|          2014-12-16|             1|                  9|     False|\n",
      "|198|B00785P2QC|     162354237|Virtual City Play...|   N|                Y|       le top du top|C trop top telech...|          2014-06-11|             2|                  1|      True|\n",
      "|199|B008LUM0G8|     243657408|Maze Runner 3: Th...|   N|                Y|good yet pretty d...|3 1/2 stars.<br /...|          2012-11-21|             1|                  4|     False|\n",
      "|203|B00EAINR5S|     693500238|Conjuring - Die H...|   N|                N|Endlich mal wiede...|Habe mir den Film...|          2014-02-24|             0|                  3|      True|\n",
      "|204|B008ML8RJU|     130125478|The Dark Knight R...|   N|                Y|Ach Nolan, ach me...|Lieber Christophe...|          2013-02-15|             0|                 11|      True|\n",
      "+---+----------+--------------+--------------------+----+-----------------+--------------------+--------------------+--------------------+--------------+-------------------+----------+\n",
      "only showing top 20 rows\n",
      "\n"
     ]
    },
    {
     "name": "stderr",
     "output_type": "stream",
     "text": [
      "                                                                                \r"
     ]
    }
   ],
   "source": [
    "# Create a SparkSession\n",
    "spark = SparkSession.builder \\\n",
    "    .appName(\"ProductReviews\") \\\n",
    "    .getOrCreate()\n",
    "\n",
    "schema = StructType([\n",
    "    StructField(\"id\", IntegerType(), True),\n",
    "    StructField(\"product_id\", StringType(), True),\n",
    "    StructField(\"product_parent\", IntegerType(), True),\n",
    "    StructField(\"product_title\", StringType(), True),\n",
    "    StructField(\"vine\", StringType(), True),\n",
    "    StructField(\"verified_purchase\", StringType(), True),\n",
    "    StructField(\"review_headline\", StringType(), True),\n",
    "    StructField(\"review_body\", StringType(), True),\n",
    "    StructField(\"review_date\", StringType(), True),\n",
    "    StructField(\"marketplace_id\", IntegerType(), True),\n",
    "    StructField(\"product_category_id\", IntegerType(), True),\n",
    "    StructField(\"label\", StringType(), True)\n",
    "])\n",
    "\n",
    "# List of file paths for training data\n",
    "data_folder = 'data'\n",
    "data_files = 8\n",
    "\n",
    "train_files = []\n",
    "\n",
    "for file in range(1, data_files+1):\n",
    "    train_files.append(f'{data_folder}/train-{file}.csv')\n",
    "\n",
    "# Read each CSV file into a PySpark DataFrame\n",
    "dfs = [spark.read.csv(file, header=True, schema=schema) for file in train_files]\n",
    "\n",
    "# Merge all DataFrames into one\n",
    "merged_df = reduce(DataFrame.unionByName, dfs)\n",
    "\n",
    "# Display the first few rows of the merged DataFrame\n",
    "merged_df.show()"
   ]
  },
  {
   "cell_type": "code",
   "execution_count": 12,
   "id": "8ed660b5-6b8d-4466-8d50-ac1f5d988736",
   "metadata": {},
   "outputs": [
    {
     "name": "stderr",
     "output_type": "stream",
     "text": [
      "24/03/07 11:30:21 WARN CSVHeaderChecker: CSV header does not conform to the schema.\n",
      " Header: , product_id, product_parent, product_title, vine, verified_purchase, review_headline, review_body, review_date, marketplace_id, product_category_id, label\n",
      " Schema: id, product_id, product_parent, product_title, vine, verified_purchase, review_headline, review_body, review_date, marketplace_id, product_category_id, label\n",
      "Expected: id but found: \n",
      "CSV file: file:///home/jovyan/work/data/train-5.csv\n",
      "24/03/07 11:30:21 WARN CSVHeaderChecker: CSV header does not conform to the schema.\n",
      " Header: , product_id, product_parent, product_title, vine, verified_purchase, review_headline, review_body, review_date, marketplace_id, product_category_id, label\n",
      " Schema: id, product_id, product_parent, product_title, vine, verified_purchase, review_headline, review_body, review_date, marketplace_id, product_category_id, label\n",
      "Expected: id but found: \n",
      "CSV file: file:///home/jovyan/work/data/train-3.csv\n",
      "24/03/07 11:30:21 WARN CSVHeaderChecker: CSV header does not conform to the schema.\n",
      " Header: , product_id, product_parent, product_title, vine, verified_purchase, review_headline, review_body, review_date, marketplace_id, product_category_id, label\n",
      " Schema: id, product_id, product_parent, product_title, vine, verified_purchase, review_headline, review_body, review_date, marketplace_id, product_category_id, label\n",
      "Expected: id but found: \n",
      "CSV file: file:///home/jovyan/work/data/train-7.csv\n",
      "24/03/07 11:30:21 WARN CSVHeaderChecker: CSV header does not conform to the schema.\n",
      " Header: , product_id, product_parent, product_title, vine, verified_purchase, review_headline, review_body, review_date, marketplace_id, product_category_id, label\n",
      " Schema: id, product_id, product_parent, product_title, vine, verified_purchase, review_headline, review_body, review_date, marketplace_id, product_category_id, label\n",
      "Expected: id but found: \n",
      "CSV file: file:///home/jovyan/work/data/train-6.csv\n",
      "24/03/07 11:30:21 WARN CSVHeaderChecker: CSV header does not conform to the schema.\n",
      " Header: , product_id, product_parent, product_title, vine, verified_purchase, review_headline, review_body, review_date, marketplace_id, product_category_id, label\n",
      " Schema: id, product_id, product_parent, product_title, vine, verified_purchase, review_headline, review_body, review_date, marketplace_id, product_category_id, label\n",
      "Expected: id but found: \n",
      "CSV file: file:///home/jovyan/work/data/train-1.csv\n",
      "24/03/07 11:30:21 WARN CSVHeaderChecker: CSV header does not conform to the schema.\n",
      " Header: , product_id, product_parent, product_title, vine, verified_purchase, review_headline, review_body, review_date, marketplace_id, product_category_id, label\n",
      " Schema: id, product_id, product_parent, product_title, vine, verified_purchase, review_headline, review_body, review_date, marketplace_id, product_category_id, label\n",
      "Expected: id but found: \n",
      "CSV file: file:///home/jovyan/work/data/train-2.csv\n",
      "24/03/07 11:30:21 WARN CSVHeaderChecker: CSV header does not conform to the schema.\n",
      " Header: , product_id, product_parent, product_title, vine, verified_purchase, review_headline, review_body, review_date, marketplace_id, product_category_id, label\n",
      " Schema: id, product_id, product_parent, product_title, vine, verified_purchase, review_headline, review_body, review_date, marketplace_id, product_category_id, label\n",
      "Expected: id but found: \n",
      "CSV file: file:///home/jovyan/work/data/train-4.csv\n",
      "24/03/07 11:30:21 WARN CSVHeaderChecker: CSV header does not conform to the schema.\n",
      " Header: , product_id, product_parent, product_title, vine, verified_purchase, review_headline, review_body, review_date, marketplace_id, product_category_id, label\n",
      " Schema: id, product_id, product_parent, product_title, vine, verified_purchase, review_headline, review_body, review_date, marketplace_id, product_category_id, label\n",
      "Expected: id but found: \n",
      "CSV file: file:///home/jovyan/work/data/train-8.csv\n",
      "                                                                                \r"
     ]
    },
    {
     "name": "stdout",
     "output_type": "stream",
     "text": [
      "Number of duplicate rows: 0\n"
     ]
    },
    {
     "data": {
      "text/plain": [
       "DataFrame[id: int, product_id: string, product_parent: int, product_title: string, vine: string, verified_purchase: string, review_headline: string, review_body: string, review_date: string, marketplace_id: int, product_category_id: int, label: string]"
      ]
     },
     "execution_count": 12,
     "metadata": {},
     "output_type": "execute_result"
    }
   ],
   "source": [
    "# Delete duplicate rows\n",
    "duplicate_rows = merged_df.count() - merged_df.dropDuplicates().count()\n",
    "print(f\"Number of duplicate rows: {duplicate_rows}\")\n",
    "\n",
    "merged_df.dropDuplicates()"
   ]
  },
  {
   "cell_type": "code",
   "execution_count": 17,
   "id": "9c81a348-3121-4ee5-80ad-03ee0be7cc13",
   "metadata": {},
   "outputs": [],
   "source": [
    "# Ensuring categorical values can only have correct values\n",
    "merged_df = merged_df.withColumn(\"vine\", when(merged_df[\"vine\"].isin('Y', 'N'), merged_df[\"vine\"]).otherwise(None))\n",
    "merged_df = merged_df.withColumn(\"verified_purchase\", when(merged_df[\"verified_purchase\"].isin('Y', 'N'), merged_df[\"verified_purchase\"]).otherwise(None))\n",
    "merged_df = merged_df.withColumn(\"label\", when(merged_df[\"label\"].isin('True', 'False'), merged_df[\"label\"]).otherwise(None))"
   ]
  },
  {
   "cell_type": "code",
   "execution_count": 21,
   "id": "8e944b61-4681-435b-b11e-e8a77e634bd4",
   "metadata": {},
   "outputs": [],
   "source": [
    "# Select columns with categorical values\n",
    "columns_to_check = [\"vine\", \"verified_purchase\", \"label\"]\n",
    "\n",
    "# Remove rows where specified columns contain null or NaN values\n",
    "merged_df = merged_df.filter(\n",
    "    (col(columns_to_check[0]).isNotNull()) &\n",
    "    (col(columns_to_check[1]).isNotNull()) &\n",
    "    (col(columns_to_check[2]).isNotNull())\n",
    ")"
   ]
  },
  {
   "cell_type": "code",
   "execution_count": 22,
   "id": "3271f204-4688-4199-84d5-aba49ab05b73",
   "metadata": {},
   "outputs": [
    {
     "name": "stderr",
     "output_type": "stream",
     "text": [
      "24/03/07 11:47:17 WARN CSVHeaderChecker: CSV header does not conform to the schema.\n",
      " Header: , product_id, product_parent, product_title, vine, verified_purchase, review_headline, review_body, review_date, marketplace_id, product_category_id, label\n",
      " Schema: id, product_id, product_parent, product_title, vine, verified_purchase, review_headline, review_body, review_date, marketplace_id, product_category_id, label\n",
      "Expected: id but found: \n",
      "CSV file: file:///home/jovyan/work/data/train-7.csv\n",
      "24/03/07 11:47:17 WARN CSVHeaderChecker: CSV header does not conform to the schema.\n",
      " Header: , product_id, product_parent, product_title, vine, verified_purchase, review_headline, review_body, review_date, marketplace_id, product_category_id, label\n",
      " Schema: id, product_id, product_parent, product_title, vine, verified_purchase, review_headline, review_body, review_date, marketplace_id, product_category_id, label\n",
      "Expected: id but found: \n",
      "CSV file: file:///home/jovyan/work/data/train-3.csv\n",
      "24/03/07 11:47:17 WARN CSVHeaderChecker: CSV header does not conform to the schema.\n",
      " Header: , product_id, product_parent, product_title, vine, verified_purchase, review_headline, review_body, review_date, marketplace_id, product_category_id, label\n",
      " Schema: id, product_id, product_parent, product_title, vine, verified_purchase, review_headline, review_body, review_date, marketplace_id, product_category_id, label\n",
      "Expected: id but found: \n",
      "CSV file: file:///home/jovyan/work/data/train-2.csv\n",
      "24/03/07 11:47:17 WARN CSVHeaderChecker: CSV header does not conform to the schema.\n",
      " Header: , product_id, product_parent, product_title, vine, verified_purchase, review_headline, review_body, review_date, marketplace_id, product_category_id, label\n",
      " Schema: id, product_id, product_parent, product_title, vine, verified_purchase, review_headline, review_body, review_date, marketplace_id, product_category_id, label\n",
      "Expected: id but found: \n",
      "CSV file: file:///home/jovyan/work/data/train-1.csv\n",
      "24/03/07 11:47:17 WARN CSVHeaderChecker: CSV header does not conform to the schema.\n",
      " Header: , product_id, product_parent, product_title, vine, verified_purchase, review_headline, review_body, review_date, marketplace_id, product_category_id, label\n",
      " Schema: id, product_id, product_parent, product_title, vine, verified_purchase, review_headline, review_body, review_date, marketplace_id, product_category_id, label\n",
      "Expected: id but found: \n",
      "CSV file: file:///home/jovyan/work/data/train-5.csv\n",
      "24/03/07 11:47:17 WARN CSVHeaderChecker: CSV header does not conform to the schema.\n",
      " Header: , product_id, product_parent, product_title, vine, verified_purchase, review_headline, review_body, review_date, marketplace_id, product_category_id, label\n",
      " Schema: id, product_id, product_parent, product_title, vine, verified_purchase, review_headline, review_body, review_date, marketplace_id, product_category_id, label\n",
      "Expected: id but found: \n",
      "CSV file: file:///home/jovyan/work/data/train-4.csv\n",
      "24/03/07 11:47:17 WARN CSVHeaderChecker: CSV header does not conform to the schema.\n",
      " Header: , product_id, product_parent, product_title, vine, verified_purchase, review_headline, review_body, review_date, marketplace_id, product_category_id, label\n",
      " Schema: id, product_id, product_parent, product_title, vine, verified_purchase, review_headline, review_body, review_date, marketplace_id, product_category_id, label\n",
      "Expected: id but found: \n",
      "CSV file: file:///home/jovyan/work/data/train-8.csv\n",
      "24/03/07 11:47:17 WARN CSVHeaderChecker: CSV header does not conform to the schema.\n",
      " Header: , product_id, product_parent, product_title, vine, verified_purchase, review_headline, review_body, review_date, marketplace_id, product_category_id, label\n",
      " Schema: id, product_id, product_parent, product_title, vine, verified_purchase, review_headline, review_body, review_date, marketplace_id, product_category_id, label\n",
      "Expected: id but found: \n",
      "CSV file: file:///home/jovyan/work/data/train-6.csv\n",
      "[Stage 45:==================================================>       (7 + 1) / 8]\r"
     ]
    },
    {
     "name": "stdout",
     "output_type": "stream",
     "text": [
      "+---+----------+--------------+-------------+----+-----------------+---------------+-----------+-----------+--------------+-------------------+-----+\n",
      "| id|product_id|product_parent|product_title|vine|verified_purchase|review_headline|review_body|review_date|marketplace_id|product_category_id|label|\n",
      "+---+----------+--------------+-------------+----+-----------------+---------------+-----------+-----------+--------------+-------------------+-----+\n",
      "|  0|         0|             0|           64|   0|                0|            636|          0|          1|             0|                  0|    0|\n",
      "+---+----------+--------------+-------------+----+-----------------+---------------+-----------+-----------+--------------+-------------------+-----+\n",
      "\n"
     ]
    },
    {
     "name": "stderr",
     "output_type": "stream",
     "text": [
      "                                                                                \r"
     ]
    }
   ],
   "source": [
    "# Count missing values in each column\n",
    "missing_value_counts = merged_df.select([count(when(isnan(c) | col(c).isNull(), c)).alias(c) for c in merged_df.columns])\n",
    "\n",
    "# Display the count of missing values for each column\n",
    "missing_value_counts.show()"
   ]
  },
  {
   "cell_type": "code",
   "execution_count": 23,
   "id": "bec0d756-6f6a-4702-8552-4c7938f3873a",
   "metadata": {},
   "outputs": [
    {
     "name": "stderr",
     "output_type": "stream",
     "text": [
      "[Stage 50:>                                                         (0 + 1) / 1]\r"
     ]
    },
    {
     "name": "stdout",
     "output_type": "stream",
     "text": [
      "+----+-----+\n",
      "|vine|count|\n",
      "+----+-----+\n",
      "|   N| 8549|\n",
      "|   Y|   14|\n",
      "+----+-----+\n",
      "\n"
     ]
    },
    {
     "name": "stderr",
     "output_type": "stream",
     "text": [
      "                                                                                \r"
     ]
    }
   ],
   "source": [
    "merged_df.groupBy(\"vine\").count().show()"
   ]
  },
  {
   "cell_type": "code",
   "execution_count": 24,
   "id": "5d49794a-2abc-4889-bc8f-1a98a2eec74b",
   "metadata": {},
   "outputs": [
    {
     "name": "stderr",
     "output_type": "stream",
     "text": [
      "                                                                                \r"
     ]
    },
    {
     "name": "stdout",
     "output_type": "stream",
     "text": [
      "+-----------------+-----+\n",
      "|verified_purchase|count|\n",
      "+-----------------+-----+\n",
      "|                Y| 5953|\n",
      "|                N| 2610|\n",
      "+-----------------+-----+\n",
      "\n"
     ]
    }
   ],
   "source": [
    "merged_df.groupBy(\"verified_purchase\").count().show()"
   ]
  },
  {
   "cell_type": "code",
   "execution_count": 25,
   "id": "44736a9d-9762-4767-9df6-32a23304553d",
   "metadata": {},
   "outputs": [
    {
     "name": "stderr",
     "output_type": "stream",
     "text": [
      "[Stage 54:=======>                                                  (1 + 7) / 8]\r"
     ]
    },
    {
     "name": "stdout",
     "output_type": "stream",
     "text": [
      "+-----+-----+\n",
      "|label|count|\n",
      "+-----+-----+\n",
      "|False| 4991|\n",
      "| True| 3572|\n",
      "+-----+-----+\n",
      "\n"
     ]
    },
    {
     "name": "stderr",
     "output_type": "stream",
     "text": [
      "                                                                                \r"
     ]
    }
   ],
   "source": [
    "merged_df.groupBy(\"label\").count().show()"
   ]
  },
  {
   "cell_type": "code",
   "execution_count": null,
   "id": "39ef4ca9-705e-4f01-8c65-1a09b589bedb",
   "metadata": {},
   "outputs": [],
   "source": []
  }
 ],
 "metadata": {
  "kernelspec": {
   "display_name": "Python 3 (ipykernel)",
   "language": "python",
   "name": "python3"
  },
  "language_info": {
   "codemirror_mode": {
    "name": "ipython",
    "version": 3
   },
   "file_extension": ".py",
   "mimetype": "text/x-python",
   "name": "python",
   "nbconvert_exporter": "python",
   "pygments_lexer": "ipython3",
   "version": "3.9.7"
  }
 },
 "nbformat": 4,
 "nbformat_minor": 5
}
