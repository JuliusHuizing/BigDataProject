{
 "cells": [
  {
   "cell_type": "code",
   "execution_count": 1,
   "metadata": {},
   "outputs": [
    {
     "name": "stderr",
     "output_type": "stream",
     "text": [
      "/home/roderickmajoor/anaconda3/envs/BD/lib/python3.12/site-packages/tqdm/auto.py:21: TqdmWarning: IProgress not found. Please update jupyter and ipywidgets. See https://ipywidgets.readthedocs.io/en/stable/user_install.html\n",
      "  from .autonotebook import tqdm as notebook_tqdm\n",
      "None of PyTorch, TensorFlow >= 2.0, or Flax have been found. Models won't be available and only tokenizers, configuration and file/data utilities can be used.\n"
     ]
    }
   ],
   "source": [
    "from Pipeline import PreProcessingPipeline\n",
    "from DataSplit import DataSplit\n",
    "\n",
    "from pyspark.sql import SparkSession\n",
    "from pyspark.ml import Pipeline as SparkPipeline\n",
    "from pyspark.ml import PipelineModel\n",
    "from pyspark.ml.feature import StringIndexer, VectorAssembler\n",
    "from pyspark.ml.classification import RandomForestClassifier\n",
    "from pyspark.ml.evaluation import BinaryClassificationEvaluator\n",
    "from Config import Config\n",
    "import os\n",
    "\n"
   ]
  },
  {
   "cell_type": "code",
   "execution_count": 2,
   "metadata": {},
   "outputs": [
    {
     "name": "stderr",
     "output_type": "stream",
     "text": [
      "24/03/14 16:37:18 WARN Utils: Your hostname, roderick resolves to a loopback address: 127.0.1.1; using 192.168.178.29 instead (on interface enp3s0)\n",
      "24/03/14 16:37:18 WARN Utils: Set SPARK_LOCAL_IP if you need to bind to another address\n",
      "Setting default log level to \"WARN\".\n",
      "To adjust logging level use sc.setLogLevel(newLevel). For SparkR, use setLogLevel(newLevel).\n",
      "24/03/14 16:37:19 WARN NativeCodeLoader: Unable to load native-hadoop library for your platform... using builtin-java classes where applicable\n"
     ]
    }
   ],
   "source": [
    "preprocessing_pipeline = PreProcessingPipeline(DataSplit.TRAIN)"
   ]
  },
  {
   "cell_type": "code",
   "execution_count": 3,
   "metadata": {},
   "outputs": [
    {
     "name": "stderr",
     "output_type": "stream",
     "text": [
      "24/03/14 16:37:25 WARN CSVHeaderChecker: CSV header does not conform to the schema.\n",
      " Header: , product_id, product_parent, product_title, vine, verified_purchase, review_headline, review_body, review_date, marketplace_id, product_category_id, label\n",
      " Schema: id, product_id, product_parent, product_title, vine, verified_purchase, review_headline, review_body, review_date, marketplace_id, product_category_id, label\n",
      "Expected: id but found: \n",
      "CSV file: file:///home/roderickmajoor/Desktop/Master/BD/BD-Project/data/train-3.csv\n",
      "24/03/14 16:37:25 WARN CSVHeaderChecker: CSV header does not conform to the schema.\n",
      " Header: , product_id, product_parent, product_title, vine, verified_purchase, review_headline, review_body, review_date, marketplace_id, product_category_id, label\n",
      " Schema: id, product_id, product_parent, product_title, vine, verified_purchase, review_headline, review_body, review_date, marketplace_id, product_category_id, label\n",
      "Expected: id but found: \n",
      "CSV file: file:///home/roderickmajoor/Desktop/Master/BD/BD-Project/data/train-4.csv\n",
      "24/03/14 16:37:25 WARN CSVHeaderChecker: CSV header does not conform to the schema.\n",
      " Header: , product_id, product_parent, product_title, vine, verified_purchase, review_headline, review_body, review_date, marketplace_id, product_category_id, label\n",
      " Schema: id, product_id, product_parent, product_title, vine, verified_purchase, review_headline, review_body, review_date, marketplace_id, product_category_id, label\n",
      "Expected: id but found: \n",
      "CSV file: file:///home/roderickmajoor/Desktop/Master/BD/BD-Project/data/train-5.csv\n",
      "24/03/14 16:37:25 WARN CSVHeaderChecker: CSV header does not conform to the schema.\n",
      " Header: , product_id, product_parent, product_title, vine, verified_purchase, review_headline, review_body, review_date, marketplace_id, product_category_id, label\n",
      " Schema: id, product_id, product_parent, product_title, vine, verified_purchase, review_headline, review_body, review_date, marketplace_id, product_category_id, label\n",
      "Expected: id but found: \n",
      "CSV file: file:///home/roderickmajoor/Desktop/Master/BD/BD-Project/data/train-6.csv\n",
      "24/03/14 16:37:25 WARN CSVHeaderChecker: CSV header does not conform to the schema.\n",
      " Header: , product_id, product_parent, product_title, vine, verified_purchase, review_headline, review_body, review_date, marketplace_id, product_category_id, label\n",
      " Schema: id, product_id, product_parent, product_title, vine, verified_purchase, review_headline, review_body, review_date, marketplace_id, product_category_id, label\n",
      "Expected: id but found: \n",
      "CSV file: file:///home/roderickmajoor/Desktop/Master/BD/BD-Project/data/train-2.csv\n",
      "24/03/14 16:37:25 WARN CSVHeaderChecker: CSV header does not conform to the schema.\n",
      " Header: , product_id, product_parent, product_title, vine, verified_purchase, review_headline, review_body, review_date, marketplace_id, product_category_id, label\n",
      " Schema: id, product_id, product_parent, product_title, vine, verified_purchase, review_headline, review_body, review_date, marketplace_id, product_category_id, label\n",
      "Expected: id but found: \n",
      "CSV file: file:///home/roderickmajoor/Desktop/Master/BD/BD-Project/data/train-1.csv\n",
      "24/03/14 16:37:25 WARN CSVHeaderChecker: CSV header does not conform to the schema.\n",
      " Header: , product_id, product_parent, product_title, vine, verified_purchase, review_headline, review_body, review_date, marketplace_id, product_category_id, label\n",
      " Schema: id, product_id, product_parent, product_title, vine, verified_purchase, review_headline, review_body, review_date, marketplace_id, product_category_id, label\n",
      "Expected: id but found: \n",
      "CSV file: file:///home/roderickmajoor/Desktop/Master/BD/BD-Project/data/train-7.csv\n",
      "24/03/14 16:37:25 WARN CSVHeaderChecker: CSV header does not conform to the schema.\n",
      " Header: , product_id, product_parent, product_title, vine, verified_purchase, review_headline, review_body, review_date, marketplace_id, product_category_id, label\n",
      " Schema: id, product_id, product_parent, product_title, vine, verified_purchase, review_headline, review_body, review_date, marketplace_id, product_category_id, label\n",
      "Expected: id but found: \n",
      "CSV file: file:///home/roderickmajoor/Desktop/Master/BD/BD-Project/data/train-8.csv\n",
      "                                                                                \r"
     ]
    },
    {
     "name": "stdout",
     "output_type": "stream",
     "text": [
      "Removed 0 duplicate rows.\n"
     ]
    }
   ],
   "source": [
    "df = preprocessing_pipeline.run()"
   ]
  },
  {
   "cell_type": "code",
   "execution_count": 4,
   "metadata": {},
   "outputs": [
    {
     "name": "stderr",
     "output_type": "stream",
     "text": [
      "24/03/14 16:37:29 WARN CSVHeaderChecker: CSV header does not conform to the schema.\n",
      " Header: , product_id, product_parent, product_title, vine, verified_purchase, review_headline, review_body, review_date, marketplace_id, product_category_id, label\n",
      " Schema: id, product_id, product_parent, product_title, vine, verified_purchase, review_headline, review_body, review_date, marketplace_id, product_category_id, label\n",
      "Expected: id but found: \n",
      "CSV file: file:///home/roderickmajoor/Desktop/Master/BD/BD-Project/data/train-6.csv\n",
      "                                                                                \r"
     ]
    },
    {
     "name": "stdout",
     "output_type": "stream",
     "text": [
      "+---+----------+--------------+--------------------+----+-----------------+--------------------+--------------------+-----------+--------------+-------------------+-----+---------------+-------------+-------------+------+------+----------+----------+\n",
      "| id|product_id|product_parent|       product_title|vine|verified_purchase|     review_headline|         review_body|review_date|marketplace_id|product_category_id|label|review_language|review_length|header_length|vine_Y|vine_N|verified_Y|verified_N|\n",
      "+---+----------+--------------+--------------------+----+-----------------+--------------------+--------------------+-----------+--------------+-------------------+-----+---------------+-------------+-------------+------+------+----------+----------+\n",
      "|  1|B00FAPF5U0|      46324555|    Candy Crush Saga|   N|                Y|brilliant but ann...|I took ages to si...| 2013-11-13|             1|                  1|False|             en|          160|           22|     0|     1|         1|         0|\n",
      "|  4|0141319135|     871827197|Percy Jackson and...|   N|                N|                NULL|Sadly I am still ...| 2010-03-23|             2|                  0| True|             en|          381|            0|     0|     1|         0|         1|\n",
      "| 17|B000VUVGAM|      62113606|Halloween Blu-ray...|   N|                Y|   Excellent version|Ok, I've had this...| 2009-10-28|             1|                  3| True|             en|          307|           17|     0|     1|         1|         0|\n",
      "| 21|B00DE6NGOO|     496520461|La Petite sirène ...|   N|                Y|                NULL|Dvd et blu ray il...| 2013-12-10|             2|                  3|False|             fr|          148|            0|     0|     1|         1|         0|\n",
      "| 30|B00E0MCYPS|     304179437|        Pocket Rally|   N|                Y|       finde ich gut|Mir géfällt dié Á...| 2014-05-21|             0|                  0|False|             hu|          189|           13|     0|     1|         1|         0|\n",
      "| 52|B00C0K6NUY|     702355901|Broken Angels (Ka...|   N|                Y|          Five Stars|Brilliant worthy ...| 2014-12-15|             1|                 10|False|             en|           81|           10|     0|     1|         1|         0|\n",
      "| 54|B006FOVZQS|     706042866|Lioness: Hidden T...|   N|                Y|    hớhé Érwártúngén|Amy Winehouse hat...| 2013-02-03|             0|                 12|False|             de|          193|           16|     0|     1|         1|         0|\n",
      "| 56|B00AQL8VU4|     496201564|  Amazon for Tablets|   N|                Y|          Five Stars|           Excellent| 2014-10-26|             1|                  1|False|             ca|            9|           10|     0|     1|         1|         0|\n",
      "| 57|B006U4SHMS|     974513179|Enesco 4029715 Gu...|   N|                Y|Erwartungen &uuml...|Ich finde Zwergsp...| 2015-02-06|             0|                  2| True|             de|          519|           29|     0|     1|         1|         0|\n",
      "| 60|B00005RDPX|     481781869|Windtalkers [DVD]...|   N|                Y|          Five Stars|            NICE DVD| 2014-09-29|             1|                  3|False|             de|            8|           10|     0|     1|         1|         0|\n",
      "| 71|B004GJDQT8|      36653526|  Amazon Underground|   N|                Y|                poor|Worked fine when ...| 2013-07-02|             0|                  1| True|             en|          131|            4|     0|     1|         1|         0|\n",
      "| 88|B00AW9MB4W|     113810823|Ender's Game [Blu...|   N|                Y|A much better mov...|I knew nothing ab...| 2015-08-23|             1|                  3|False|             en|         1284|           45|     0|     1|         1|         0|\n",
      "|111|B00KC5O5HW|      67426103|Between Heartbrea...|   N|                N|               Great|I really enjoy th...| 2015-03-26|             2|                  4|False|             en|          195|            5|     0|     1|         0|         1|\n",
      "|118|B001BYMKRO|     101257542|Mamma Mia! The Mo...|   N|                N|        Bad Language|Sorry to be a spo...| 2009-01-16|             1|                  3| True|             en|          538|           12|     0|     1|         0|         1|\n",
      "|121|B004SBQGHS|     541673691|Angry Birds (Ad-F...|   N|                Y|      Vớllér Wérbúng|Obwohl dies Spiel...| 2013-08-30|             3|                  0| True|             de|          360|           14|     0|     1|         1|         0|\n",
      "|125|B000000H57|      96250911|        October Rust|   N|                Y|Chef d'Oeuvre got...|Une des 4 pièces ...| 2014-06-01|             2|                  6| True|             fr|          249|           44|     0|     1|         1|         0|\n",
      "|139|B0000AGDMJ|     579654184|Das Leben des Dav...|   N|                N|Dás Bésté, wás ic...|Dér Film hátté sc...| 2007-12-31|             0|                 11| True|             hu|          284|           43|     0|     1|         0|         1|\n",
      "|165|B003AM95OM|      53815042| Jaquette différente|   N|                Y|      2012 [Blu-ray]|La jaquette du fi...| 2012-07-05|             2|                  3|False|             fr|          151|           14|     0|     1|         1|         0|\n",
      "|170|B0000252BG|     514416658|              Aenima|   N|                N|anything Keenan t...|It's perhaps not ...| 2001-07-21|             1|                 16|False|             en|          204|           37|     0|     1|         0|         1|\n",
      "|175|0857522310|     627793267|The Girl on the T...|   N|                Y|Bit confusing goi...|Dont usually read...| 2015-07-13|             0|                  0|False|             en|          189|           93|     0|     1|         1|         0|\n",
      "+---+----------+--------------+--------------------+----+-----------------+--------------------+--------------------+-----------+--------------+-------------------+-----+---------------+-------------+-------------+------+------+----------+----------+\n",
      "only showing top 20 rows\n",
      "\n"
     ]
    }
   ],
   "source": [
    "df.show()"
   ]
  },
  {
   "cell_type": "code",
   "execution_count": null,
   "metadata": {},
   "outputs": [],
   "source": []
  },
  {
   "cell_type": "code",
   "execution_count": 5,
   "metadata": {},
   "outputs": [
    {
     "name": "stderr",
     "output_type": "stream",
     "text": [
      "24/03/14 16:37:30 WARN SparkSession: Using an existing Spark session; only runtime SQL configurations will take effect.\n"
     ]
    }
   ],
   "source": [
    "spark = SparkSession.builder.appName(\"RandomForestExample\").getOrCreate()\n"
   ]
  },
  {
   "cell_type": "code",
   "execution_count": 6,
   "metadata": {},
   "outputs": [],
   "source": [
    "# List of your feature columns\n",
    "featureColumns = [\"review_length\", \"header_length\", \"vine_Y\", \"vine_N\", \"verified_Y\", \"verified_N\"]\n",
    "\n",
    "# Assemble the feature columns into a single feature vector\n",
    "assembler = VectorAssembler(inputCols=featureColumns, outputCol=\"features\")\n"
   ]
  },
  {
   "cell_type": "code",
   "execution_count": 7,
   "metadata": {},
   "outputs": [],
   "source": [
    "# If \"label\" is not a numeric column, convert it to numeric using StringIndexer\n",
    "labelIndexer = StringIndexer(inputCol=\"label\", outputCol=\"indexedLabel\").fit(df)\n"
   ]
  },
  {
   "cell_type": "code",
   "execution_count": 8,
   "metadata": {},
   "outputs": [],
   "source": [
    "(trainingData, testData) = df.randomSplit([0.7, 0.3]) # before we submit, we want to train on all training data though.\n"
   ]
  },
  {
   "cell_type": "code",
   "execution_count": 9,
   "metadata": {},
   "outputs": [
    {
     "name": "stderr",
     "output_type": "stream",
     "text": [
      "24/03/14 16:37:32 WARN CSVHeaderChecker: CSV header does not conform to the schema.\n",
      " Header: , product_id, product_parent, product_title, vine, verified_purchase, review_headline, review_body, review_date, marketplace_id, product_category_id, label\n",
      " Schema: id, product_id, product_parent, product_title, vine, verified_purchase, review_headline, review_body, review_date, marketplace_id, product_category_id, label\n",
      "Expected: id but found: \n",
      "CSV file: file:///home/roderickmajoor/Desktop/Master/BD/BD-Project/data/train-6.csv\n",
      "24/03/14 16:37:35 WARN CSVHeaderChecker: CSV header does not conform to the schema.\n",
      " Header: , product_id, product_parent, product_title, vine, verified_purchase, review_headline, review_body, review_date, marketplace_id, product_category_id, label\n",
      " Schema: id, product_id, product_parent, product_title, vine, verified_purchase, review_headline, review_body, review_date, marketplace_id, product_category_id, label\n",
      "Expected: id but found: \n",
      "CSV file: file:///home/roderickmajoor/Desktop/Master/BD/BD-Project/data/train-6.csv\n",
      "24/03/14 16:37:35 WARN CSVHeaderChecker: CSV header does not conform to the schema.\n",
      " Header: , product_id, product_parent, product_title, vine, verified_purchase, review_headline, review_body, review_date, marketplace_id, product_category_id, label\n",
      " Schema: id, product_id, product_parent, product_title, vine, verified_purchase, review_headline, review_body, review_date, marketplace_id, product_category_id, label\n",
      "Expected: id but found: \n",
      "CSV file: file:///home/roderickmajoor/Desktop/Master/BD/BD-Project/data/train-7.csv\n",
      "24/03/14 16:37:35 WARN CSVHeaderChecker: CSV header does not conform to the schema.\n",
      " Header: , product_id, product_parent, product_title, vine, verified_purchase, review_headline, review_body, review_date, marketplace_id, product_category_id, label\n",
      " Schema: id, product_id, product_parent, product_title, vine, verified_purchase, review_headline, review_body, review_date, marketplace_id, product_category_id, label\n",
      "Expected: id but found: \n",
      "CSV file: file:///home/roderickmajoor/Desktop/Master/BD/BD-Project/data/train-5.csv\n",
      "24/03/14 16:37:35 WARN CSVHeaderChecker: CSV header does not conform to the schema.\n",
      " Header: , product_id, product_parent, product_title, vine, verified_purchase, review_headline, review_body, review_date, marketplace_id, product_category_id, label\n",
      " Schema: id, product_id, product_parent, product_title, vine, verified_purchase, review_headline, review_body, review_date, marketplace_id, product_category_id, label\n",
      "Expected: id but found: \n",
      "CSV file: file:///home/roderickmajoor/Desktop/Master/BD/BD-Project/data/train-3.csv\n",
      "24/03/14 16:37:35 WARN CSVHeaderChecker: CSV header does not conform to the schema.\n",
      " Header: , product_id, product_parent, product_title, vine, verified_purchase, review_headline, review_body, review_date, marketplace_id, product_category_id, label\n",
      " Schema: id, product_id, product_parent, product_title, vine, verified_purchase, review_headline, review_body, review_date, marketplace_id, product_category_id, label\n",
      "Expected: id but found: \n",
      "CSV file: file:///home/roderickmajoor/Desktop/Master/BD/BD-Project/data/train-8.csv\n",
      "24/03/14 16:37:35 WARN CSVHeaderChecker: CSV header does not conform to the schema.\n",
      " Header: , product_id, product_parent, product_title, vine, verified_purchase, review_headline, review_body, review_date, marketplace_id, product_category_id, label\n",
      " Schema: id, product_id, product_parent, product_title, vine, verified_purchase, review_headline, review_body, review_date, marketplace_id, product_category_id, label\n",
      "Expected: id but found: \n",
      "CSV file: file:///home/roderickmajoor/Desktop/Master/BD/BD-Project/data/train-1.csv\n",
      "24/03/14 16:37:35 WARN CSVHeaderChecker: CSV header does not conform to the schema.\n",
      " Header: , product_id, product_parent, product_title, vine, verified_purchase, review_headline, review_body, review_date, marketplace_id, product_category_id, label\n",
      " Schema: id, product_id, product_parent, product_title, vine, verified_purchase, review_headline, review_body, review_date, marketplace_id, product_category_id, label\n",
      "Expected: id but found: \n",
      "CSV file: file:///home/roderickmajoor/Desktop/Master/BD/BD-Project/data/train-2.csv\n",
      "24/03/14 16:37:36 WARN CSVHeaderChecker: CSV header does not conform to the schema.\n",
      " Header: , product_id, product_parent, product_title, vine, verified_purchase, review_headline, review_body, review_date, marketplace_id, product_category_id, label\n",
      " Schema: id, product_id, product_parent, product_title, vine, verified_purchase, review_headline, review_body, review_date, marketplace_id, product_category_id, label\n",
      "Expected: id but found: \n",
      "CSV file: file:///home/roderickmajoor/Desktop/Master/BD/BD-Project/data/train-4.csv\n",
      "24/03/14 16:37:42 WARN CSVHeaderChecker: CSV header does not conform to the schema.\n",
      " Header: , product_id, product_parent, product_title, vine, verified_purchase, review_headline, review_body, review_date, marketplace_id, product_category_id, label\n",
      " Schema: id, product_id, product_parent, product_title, vine, verified_purchase, review_headline, review_body, review_date, marketplace_id, product_category_id, label\n",
      "Expected: id but found: \n",
      "CSV file: file:///home/roderickmajoor/Desktop/Master/BD/BD-Project/data/train-6.csv\n",
      "24/03/14 16:37:42 WARN CSVHeaderChecker: CSV header does not conform to the schema.\n",
      " Header: , product_id, product_parent, product_title, vine, verified_purchase, review_headline, review_body, review_date, marketplace_id, product_category_id, label\n",
      " Schema: id, product_id, product_parent, product_title, vine, verified_purchase, review_headline, review_body, review_date, marketplace_id, product_category_id, label\n",
      "Expected: id but found: \n",
      "CSV file: file:///home/roderickmajoor/Desktop/Master/BD/BD-Project/data/train-1.csv\n",
      "24/03/14 16:37:42 WARN CSVHeaderChecker: CSV header does not conform to the schema.\n",
      " Header: , product_id, product_parent, product_title, vine, verified_purchase, review_headline, review_body, review_date, marketplace_id, product_category_id, label\n",
      " Schema: id, product_id, product_parent, product_title, vine, verified_purchase, review_headline, review_body, review_date, marketplace_id, product_category_id, label\n",
      "Expected: id but found: \n",
      "CSV file: file:///home/roderickmajoor/Desktop/Master/BD/BD-Project/data/train-2.csv\n",
      "24/03/14 16:37:42 WARN CSVHeaderChecker: CSV header does not conform to the schema.\n",
      " Header: , product_id, product_parent, product_title, vine, verified_purchase, review_headline, review_body, review_date, marketplace_id, product_category_id, label\n",
      " Schema: id, product_id, product_parent, product_title, vine, verified_purchase, review_headline, review_body, review_date, marketplace_id, product_category_id, label\n",
      "Expected: id but found: \n",
      "CSV file: file:///home/roderickmajoor/Desktop/Master/BD/BD-Project/data/train-4.csv\n",
      "24/03/14 16:37:42 WARN CSVHeaderChecker: CSV header does not conform to the schema.\n",
      " Header: , product_id, product_parent, product_title, vine, verified_purchase, review_headline, review_body, review_date, marketplace_id, product_category_id, label\n",
      " Schema: id, product_id, product_parent, product_title, vine, verified_purchase, review_headline, review_body, review_date, marketplace_id, product_category_id, label\n",
      "Expected: id but found: \n",
      "CSV file: file:///home/roderickmajoor/Desktop/Master/BD/BD-Project/data/train-5.csv\n",
      "24/03/14 16:37:42 WARN CSVHeaderChecker: CSV header does not conform to the schema.\n",
      " Header: , product_id, product_parent, product_title, vine, verified_purchase, review_headline, review_body, review_date, marketplace_id, product_category_id, label\n",
      " Schema: id, product_id, product_parent, product_title, vine, verified_purchase, review_headline, review_body, review_date, marketplace_id, product_category_id, label\n",
      "Expected: id but found: \n",
      "CSV file: file:///home/roderickmajoor/Desktop/Master/BD/BD-Project/data/train-3.csv\n",
      "24/03/14 16:37:42 WARN CSVHeaderChecker: CSV header does not conform to the schema.\n",
      " Header: , product_id, product_parent, product_title, vine, verified_purchase, review_headline, review_body, review_date, marketplace_id, product_category_id, label\n",
      " Schema: id, product_id, product_parent, product_title, vine, verified_purchase, review_headline, review_body, review_date, marketplace_id, product_category_id, label\n",
      "Expected: id but found: \n",
      "CSV file: file:///home/roderickmajoor/Desktop/Master/BD/BD-Project/data/train-8.csv\n",
      "24/03/14 16:37:42 WARN CSVHeaderChecker: CSV header does not conform to the schema.\n",
      " Header: , product_id, product_parent, product_title, vine, verified_purchase, review_headline, review_body, review_date, marketplace_id, product_category_id, label\n",
      " Schema: id, product_id, product_parent, product_title, vine, verified_purchase, review_headline, review_body, review_date, marketplace_id, product_category_id, label\n",
      "Expected: id but found: \n",
      "CSV file: file:///home/roderickmajoor/Desktop/Master/BD/BD-Project/data/train-7.csv\n"
     ]
    },
    {
     "name": "stderr",
     "output_type": "stream",
     "text": [
      "24/03/14 16:37:50 WARN CSVHeaderChecker: CSV header does not conform to the schema.\n",
      " Header: , product_id, product_parent, product_title, vine, verified_purchase, review_headline, review_body, review_date, marketplace_id, product_category_id, label\n",
      " Schema: id, product_id, product_parent, product_title, vine, verified_purchase, review_headline, review_body, review_date, marketplace_id, product_category_id, label\n",
      "Expected: id but found: \n",
      "CSV file: file:///home/roderickmajoor/Desktop/Master/BD/BD-Project/data/train-2.csv\n",
      "24/03/14 16:37:50 WARN CSVHeaderChecker: CSV header does not conform to the schema.\n",
      " Header: , product_id, product_parent, product_title, vine, verified_purchase, review_headline, review_body, review_date, marketplace_id, product_category_id, label\n",
      " Schema: id, product_id, product_parent, product_title, vine, verified_purchase, review_headline, review_body, review_date, marketplace_id, product_category_id, label\n",
      "Expected: id but found: \n",
      "CSV file: file:///home/roderickmajoor/Desktop/Master/BD/BD-Project/data/train-3.csv\n",
      "24/03/14 16:37:50 WARN CSVHeaderChecker: CSV header does not conform to the schema.\n",
      " Header: , product_id, product_parent, product_title, vine, verified_purchase, review_headline, review_body, review_date, marketplace_id, product_category_id, label\n",
      " Schema: id, product_id, product_parent, product_title, vine, verified_purchase, review_headline, review_body, review_date, marketplace_id, product_category_id, label\n",
      "Expected: id but found: \n",
      "CSV file: file:///home/roderickmajoor/Desktop/Master/BD/BD-Project/data/train-5.csv\n",
      "24/03/14 16:37:50 WARN CSVHeaderChecker: CSV header does not conform to the schema.\n",
      " Header: , product_id, product_parent, product_title, vine, verified_purchase, review_headline, review_body, review_date, marketplace_id, product_category_id, label\n",
      " Schema: id, product_id, product_parent, product_title, vine, verified_purchase, review_headline, review_body, review_date, marketplace_id, product_category_id, label\n",
      "Expected: id but found: \n",
      "CSV file: file:///home/roderickmajoor/Desktop/Master/BD/BD-Project/data/train-4.csv\n",
      "24/03/14 16:37:50 WARN CSVHeaderChecker: CSV header does not conform to the schema.\n",
      " Header: , product_id, product_parent, product_title, vine, verified_purchase, review_headline, review_body, review_date, marketplace_id, product_category_id, label\n",
      " Schema: id, product_id, product_parent, product_title, vine, verified_purchase, review_headline, review_body, review_date, marketplace_id, product_category_id, label\n",
      "Expected: id but found: \n",
      "CSV file: file:///home/roderickmajoor/Desktop/Master/BD/BD-Project/data/train-6.csv\n",
      "24/03/14 16:37:50 WARN CSVHeaderChecker: CSV header does not conform to the schema.\n",
      " Header: , product_id, product_parent, product_title, vine, verified_purchase, review_headline, review_body, review_date, marketplace_id, product_category_id, label\n",
      " Schema: id, product_id, product_parent, product_title, vine, verified_purchase, review_headline, review_body, review_date, marketplace_id, product_category_id, label\n",
      "Expected: id but found: \n",
      "CSV file: file:///home/roderickmajoor/Desktop/Master/BD/BD-Project/data/train-8.csv\n",
      "24/03/14 16:37:50 WARN CSVHeaderChecker: CSV header does not conform to the schema.\n",
      " Header: , product_id, product_parent, product_title, vine, verified_purchase, review_headline, review_body, review_date, marketplace_id, product_category_id, label\n",
      " Schema: id, product_id, product_parent, product_title, vine, verified_purchase, review_headline, review_body, review_date, marketplace_id, product_category_id, label\n",
      "Expected: id but found: \n",
      "CSV file: file:///home/roderickmajoor/Desktop/Master/BD/BD-Project/data/train-7.csv\n",
      "24/03/14 16:37:50 WARN CSVHeaderChecker: CSV header does not conform to the schema.\n",
      " Header: , product_id, product_parent, product_title, vine, verified_purchase, review_headline, review_body, review_date, marketplace_id, product_category_id, label\n",
      " Schema: id, product_id, product_parent, product_title, vine, verified_purchase, review_headline, review_body, review_date, marketplace_id, product_category_id, label\n",
      "Expected: id but found: \n",
      "CSV file: file:///home/roderickmajoor/Desktop/Master/BD/BD-Project/data/train-1.csv\n",
      "                                                                                \r"
     ]
    }
   ],
   "source": [
    "# Configure the Random Forest model\n",
    "rf = RandomForestClassifier(labelCol=\"indexedLabel\", featuresCol=\"features\", numTrees=10)\n",
    "\n",
    "# Chain indexers and forest in a Pipeline\n",
    "preprocessing_pipeline = SparkPipeline(stages=[labelIndexer, assembler, rf])\n",
    "\n",
    "# Train model\n",
    "model = preprocessing_pipeline.fit(trainingData)\n",
    "# save the model\n",
    "# model.save(\"model\")\n"
   ]
  },
  {
   "cell_type": "code",
   "execution_count": 10,
   "metadata": {},
   "outputs": [],
   "source": [
    "if Config.MODEL_PATH in os.listdir():\n",
    "    # delete model dir\n",
    "    os.system(f\"rm -r {Config.MODEL_PATH}\")\n",
    "model.save(Config.MODEL_PATH)"
   ]
  },
  {
   "cell_type": "code",
   "execution_count": 11,
   "metadata": {},
   "outputs": [
    {
     "name": "stderr",
     "output_type": "stream",
     "text": [
      "WARNING: An illegal reflective access operation has occurred\n",
      "WARNING: Illegal reflective access by org.apache.spark.util.SizeEstimator$ (file:/home/roderickmajoor/anaconda3/envs/BD/lib/python3.12/site-packages/pyspark/jars/spark-core_2.12-3.5.1.jar) to field java.math.BigInteger.mag\n",
      "WARNING: Please consider reporting this to the maintainers of org.apache.spark.util.SizeEstimator$\n",
      "WARNING: Use --illegal-access=warn to enable warnings of further illegal reflective access operations\n",
      "WARNING: All illegal access operations will be denied in a future release\n"
     ]
    }
   ],
   "source": [
    "model = PipelineModel.load(Config.MODEL_PATH)"
   ]
  },
  {
   "cell_type": "code",
   "execution_count": 12,
   "metadata": {},
   "outputs": [
    {
     "name": "stderr",
     "output_type": "stream",
     "text": [
      "24/03/14 16:38:03 WARN CSVHeaderChecker: CSV header does not conform to the schema.\n",
      " Header: , product_id, product_parent, product_title, vine, verified_purchase, review_headline, review_body, review_date, marketplace_id, product_category_id, label\n",
      " Schema: id, product_id, product_parent, product_title, vine, verified_purchase, review_headline, review_body, review_date, marketplace_id, product_category_id, label\n",
      "Expected: id but found: \n",
      "CSV file: file:///home/roderickmajoor/Desktop/Master/BD/BD-Project/data/train-6.csv\n",
      "[Stage 57:>                                                         (0 + 1) / 1]\r"
     ]
    },
    {
     "name": "stdout",
     "output_type": "stream",
     "text": [
      "+----------+------------+--------------------+\n",
      "|prediction|indexedLabel|            features|\n",
      "+----------+------------+--------------------+\n",
      "|       0.0|         0.0|[160.0,22.0,0.0,1...|\n",
      "|       0.0|         1.0|[307.0,17.0,0.0,1...|\n",
      "|       0.0|         0.0|[148.0,0.0,0.0,1....|\n",
      "|       0.0|         0.0|[81.0,10.0,0.0,1....|\n",
      "|       0.0|         0.0|[193.0,16.0,0.0,1...|\n",
      "+----------+------------+--------------------+\n",
      "only showing top 5 rows\n",
      "\n"
     ]
    },
    {
     "name": "stderr",
     "output_type": "stream",
     "text": [
      "\r",
      "                                                                                \r"
     ]
    }
   ],
   "source": [
    "predictions = model.transform(testData)\n",
    "\n",
    "# Select example rows to display\n",
    "predictions.select(\"prediction\", \"indexedLabel\", \"features\").show(5)\n"
   ]
  },
  {
   "cell_type": "code",
   "execution_count": 13,
   "metadata": {},
   "outputs": [
    {
     "name": "stderr",
     "output_type": "stream",
     "text": [
      "24/03/14 16:38:06 WARN CSVHeaderChecker: CSV header does not conform to the schema.\n",
      " Header: , product_id, product_parent, product_title, vine, verified_purchase, review_headline, review_body, review_date, marketplace_id, product_category_id, label\n",
      " Schema: id, product_id, product_parent, product_title, vine, verified_purchase, review_headline, review_body, review_date, marketplace_id, product_category_id, label\n",
      "Expected: id but found: \n",
      "CSV file: file:///home/roderickmajoor/Desktop/Master/BD/BD-Project/data/train-8.csv\n",
      "24/03/14 16:38:06 WARN CSVHeaderChecker: CSV header does not conform to the schema.\n",
      " Header: , product_id, product_parent, product_title, vine, verified_purchase, review_headline, review_body, review_date, marketplace_id, product_category_id, label\n",
      " Schema: id, product_id, product_parent, product_title, vine, verified_purchase, review_headline, review_body, review_date, marketplace_id, product_category_id, label\n",
      "Expected: id but found: \n",
      "CSV file: file:///home/roderickmajoor/Desktop/Master/BD/BD-Project/data/train-1.csv\n",
      "24/03/14 16:38:06 WARN CSVHeaderChecker: CSV header does not conform to the schema.\n",
      " Header: , product_id, product_parent, product_title, vine, verified_purchase, review_headline, review_body, review_date, marketplace_id, product_category_id, label\n",
      " Schema: id, product_id, product_parent, product_title, vine, verified_purchase, review_headline, review_body, review_date, marketplace_id, product_category_id, label\n",
      "Expected: id but found: \n",
      "CSV file: file:///home/roderickmajoor/Desktop/Master/BD/BD-Project/data/train-4.csv\n",
      "24/03/14 16:38:06 WARN CSVHeaderChecker: CSV header does not conform to the schema.\n",
      " Header: , product_id, product_parent, product_title, vine, verified_purchase, review_headline, review_body, review_date, marketplace_id, product_category_id, label\n",
      " Schema: id, product_id, product_parent, product_title, vine, verified_purchase, review_headline, review_body, review_date, marketplace_id, product_category_id, label\n",
      "Expected: id but found: \n",
      "CSV file: file:///home/roderickmajoor/Desktop/Master/BD/BD-Project/data/train-5.csv\n",
      "24/03/14 16:38:06 WARN CSVHeaderChecker: CSV header does not conform to the schema.\n",
      " Header: , product_id, product_parent, product_title, vine, verified_purchase, review_headline, review_body, review_date, marketplace_id, product_category_id, label\n",
      " Schema: id, product_id, product_parent, product_title, vine, verified_purchase, review_headline, review_body, review_date, marketplace_id, product_category_id, label\n",
      "Expected: id but found: \n",
      "CSV file: file:///home/roderickmajoor/Desktop/Master/BD/BD-Project/data/train-6.csv\n",
      "24/03/14 16:38:06 WARN CSVHeaderChecker: CSV header does not conform to the schema.\n",
      " Header: , product_id, product_parent, product_title, vine, verified_purchase, review_headline, review_body, review_date, marketplace_id, product_category_id, label\n",
      " Schema: id, product_id, product_parent, product_title, vine, verified_purchase, review_headline, review_body, review_date, marketplace_id, product_category_id, label\n",
      "Expected: id but found: \n",
      "CSV file: file:///home/roderickmajoor/Desktop/Master/BD/BD-Project/data/train-7.csv\n",
      "24/03/14 16:38:06 WARN CSVHeaderChecker: CSV header does not conform to the schema.\n",
      " Header: , product_id, product_parent, product_title, vine, verified_purchase, review_headline, review_body, review_date, marketplace_id, product_category_id, label\n",
      " Schema: id, product_id, product_parent, product_title, vine, verified_purchase, review_headline, review_body, review_date, marketplace_id, product_category_id, label\n",
      "Expected: id but found: \n",
      "CSV file: file:///home/roderickmajoor/Desktop/Master/BD/BD-Project/data/train-2.csv\n",
      "24/03/14 16:38:06 WARN CSVHeaderChecker: CSV header does not conform to the schema.\n",
      " Header: , product_id, product_parent, product_title, vine, verified_purchase, review_headline, review_body, review_date, marketplace_id, product_category_id, label\n",
      " Schema: id, product_id, product_parent, product_title, vine, verified_purchase, review_headline, review_body, review_date, marketplace_id, product_category_id, label\n",
      "Expected: id but found: \n",
      "CSV file: file:///home/roderickmajoor/Desktop/Master/BD/BD-Project/data/train-3.csv\n",
      "[Stage 58:===========================================>              (6 + 2) / 8]\r"
     ]
    },
    {
     "name": "stdout",
     "output_type": "stream",
     "text": [
      "accuracy: 0.7360143799735283\n"
     ]
    },
    {
     "name": "stderr",
     "output_type": "stream",
     "text": [
      "\r",
      "                                                                                \r"
     ]
    }
   ],
   "source": [
    "evaluator = BinaryClassificationEvaluator(labelCol=\"indexedLabel\")\n",
    "accuracy = evaluator.evaluate(predictions)\n",
    "print(f\"accuracy: {accuracy}\")\n"
   ]
  },
  {
   "cell_type": "code",
   "execution_count": null,
   "metadata": {},
   "outputs": [],
   "source": []
  }
 ],
 "metadata": {
  "kernelspec": {
   "display_name": "BD",
   "language": "python",
   "name": "bd"
  },
  "language_info": {
   "codemirror_mode": {
    "name": "ipython",
    "version": 3
   },
   "file_extension": ".py",
   "mimetype": "text/x-python",
   "name": "python",
   "nbconvert_exporter": "python",
   "pygments_lexer": "ipython3",
   "version": "3.12.2"
  }
 },
 "nbformat": 4,
 "nbformat_minor": 4
}
