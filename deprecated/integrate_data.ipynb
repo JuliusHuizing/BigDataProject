{
 "cells": [
  {
   "cell_type": "code",
   "execution_count": 21,
   "metadata": {},
   "outputs": [
    {
     "name": "stdout",
     "output_type": "stream",
     "text": [
      "Removed 0 duplicate rows.\n"
     ]
    }
   ],
   "source": [
    "from DataLoader import DataLoader\n",
    "from DataSplit import DataSplit\n",
    "\n",
    "\n",
    "\n",
    "\n",
    "train_data = DataLoader(DataSplit.TRAIN)\n"
   ]
  },
  {
   "cell_type": "code",
   "execution_count": null,
   "metadata": {},
   "outputs": [],
   "source": []
  },
  {
   "cell_type": "code",
   "execution_count": 17,
   "metadata": {},
   "outputs": [],
   "source": [
    "from langdetect import detect\n",
    "\n",
    "def detect_language(text):\n",
    "    try:\n",
    "        detected_language = detect(text)\n",
    "        return detected_language\n",
    "    except Exception as e:  \n",
    "        # print(\"An error occurred:\", e)\n",
    "        return \"unkown language\""
   ]
  },
  {
   "cell_type": "markdown",
   "metadata": {},
   "source": [
    "# Dates"
   ]
  },
  {
   "cell_type": "code",
   "execution_count": 20,
   "metadata": {},
   "outputs": [
    {
     "name": "stdout",
     "output_type": "stream",
     "text": [
      "+---+----------+--------------+--------------------+----+-----------------+--------------------+--------------------+-----------+--------------+-------------------+-----+--------+\n",
      "|   |product_id|product_parent|       product_title|vine|verified_purchase|     review_headline|         review_body|review_date|marketplace_id|product_category_id|label|language|\n",
      "+---+----------+--------------+--------------------+----+-----------------+--------------------+--------------------+-----------+--------------+-------------------+-----+--------+\n",
      "|  1|B00FAPF5U0|      46324555|    Candy Crush Saga|   N|                Y|brilliant but ann...|I took ages to si...| 2013-11-13|             1|                  1|False|      en|\n",
      "|  4|0141319135|     871827197|Percy Jackson and...|   N|                N|                NULL|Sadly I am still ...| 2010-03-23|             2|                  0| True|      en|\n",
      "| 17|B000VUVGAM|      62113606|Halloween Blu-ray...|   N|                Y|   Excellent version|Ok, I've had this...| 2009-10-28|             1|                  3| True|      en|\n",
      "| 21|B00DE6NGOO|     496520461|La Petite sirène ...|   N|                Y|                NULL|Dvd et blu ray il...| 2013-12-10|             2|                  3|False|      fr|\n",
      "| 30|B00E0MCYPS|     304179437|        Pocket Rally|   N|                Y|       finde ich gut|Mir géfällt dié Á...| 2014-05-21|             0|                  0|False|      hu|\n",
      "| 52|B00C0K6NUY|     702355901|Broken Angels (Ka...|   N|                Y|          Five Stars|Brilliant worthy ...| 2014-12-15|             1|                 10|False|      en|\n",
      "| 54|B006FOVZQS|     706042866|Lioness: Hidden T...|   N|                Y|    hớhé Érwártúngén|Amy Winehouse hat...| 2013-02-03|             0|                 12|False|      de|\n",
      "| 56|B00AQL8VU4|     496201564|  Amazon for Tablets|   N|                Y|          Five Stars|           Excellent| 2014-10-26|             1|                  1|False|      ca|\n",
      "| 57|B006U4SHMS|     974513179|Enesco 4029715 Gu...|   N|                Y|Erwartungen &uuml...|Ich finde Zwergsp...| 2015-02-06|             0|                  2| True|      de|\n",
      "| 60|B00005RDPX|     481781869|Windtalkers [DVD]...|   N|                Y|          Five Stars|            NICE DVD| 2014-09-29|             1|                  3|False|      de|\n",
      "| 71|B004GJDQT8|      36653526|  Amazon Underground|   N|                Y|                poor|Worked fine when ...| 2013-07-02|             0|                  1| True|      en|\n",
      "| 88|B00AW9MB4W|     113810823|Ender's Game [Blu...|   N|                Y|A much better mov...|I knew nothing ab...| 2015-08-23|             1|                  3|False|      en|\n",
      "|111|B00KC5O5HW|      67426103|Between Heartbrea...|   N|                N|               Great|I really enjoy th...| 2015-03-26|             2|                  4|False|      en|\n",
      "|118|B001BYMKRO|     101257542|Mamma Mia! The Mo...|   N|                N|        Bad Language|Sorry to be a spo...| 2009-01-16|             1|                  3| True|      en|\n",
      "|121|B004SBQGHS|     541673691|Angry Birds (Ad-F...|   N|                Y|      Vớllér Wérbúng|Obwohl dies Spiel...| 2013-08-30|             3|                  0| True|      de|\n",
      "|125|B000000H57|      96250911|        October Rust|   N|                Y|Chef d'Oeuvre got...|Une des 4 pièces ...| 2014-06-01|             2|                  6| True|      fr|\n",
      "|139|B0000AGDMJ|     579654184|Das Leben des Dav...|   N|                N|Dás Bésté, wás ic...|Dér Film hátté sc...| 2007-12-31|             0|                 11| True|      hu|\n",
      "|165|B003AM95OM|      53815042| Jaquette différente|   N|                Y|      2012 [Blu-ray]|La jaquette du fi...| 2012-07-05|             2|                  3|False|      fr|\n",
      "|170|B0000252BG|     514416658|              Aenima|   N|                N|anything Keenan t...|It's perhaps not ...| 2001-07-21|             1|                 16|False|      en|\n",
      "|175|0857522310|     627793267|The Girl on the T...|   N|                Y|Bit confusing goi...|Dont usually read...| 2015-07-13|             0|                  0|False|      en|\n",
      "+---+----------+--------------+--------------------+----+-----------------+--------------------+--------------------+-----------+--------------+-------------------+-----+--------+\n",
      "only showing top 20 rows\n",
      "\n"
     ]
    },
    {
     "name": "stderr",
     "output_type": "stream",
     "text": [
      "                                                                                \r"
     ]
    }
   ],
   "source": [
    "# detect holidays\n",
    "detectLanguageUDF = udf(lambda x:detect_language (x),StringType()) \n",
    "\n",
    "df.withColumn(\"language\", detectLanguageUDF(df[\"review_body\"])).show()"
   ]
  },
  {
   "cell_type": "code",
   "execution_count": 19,
   "metadata": {},
   "outputs": [
    {
     "name": "stdout",
     "output_type": "stream",
     "text": [
      "+---+----------+--------------+--------------------+----+-----------------+--------------------+--------------------+-----------+--------------+-------------------+-----+\n",
      "|   |product_id|product_parent|       product_title|vine|verified_purchase|     review_headline|         review_body|review_date|marketplace_id|product_category_id|label|\n",
      "+---+----------+--------------+--------------------+----+-----------------+--------------------+--------------------+-----------+--------------+-------------------+-----+\n",
      "|  1|B00FAPF5U0|      46324555|    Candy Crush Saga|   N|                Y|brilliant but ann...|I took ages to si...| 2013-11-13|             1|                  1|False|\n",
      "|  4|0141319135|     871827197|Percy Jackson and...|   N|                N|                NULL|Sadly I am still ...| 2010-03-23|             2|                  0| True|\n",
      "| 17|B000VUVGAM|      62113606|Halloween Blu-ray...|   N|                Y|   Excellent version|Ok, I've had this...| 2009-10-28|             1|                  3| True|\n",
      "| 21|B00DE6NGOO|     496520461|La Petite sirène ...|   N|                Y|                NULL|Dvd et blu ray il...| 2013-12-10|             2|                  3|False|\n",
      "| 30|B00E0MCYPS|     304179437|        Pocket Rally|   N|                Y|       finde ich gut|Mir géfällt dié Á...| 2014-05-21|             0|                  0|False|\n",
      "| 52|B00C0K6NUY|     702355901|Broken Angels (Ka...|   N|                Y|          Five Stars|Brilliant worthy ...| 2014-12-15|             1|                 10|False|\n",
      "| 54|B006FOVZQS|     706042866|Lioness: Hidden T...|   N|                Y|    hớhé Érwártúngén|Amy Winehouse hat...| 2013-02-03|             0|                 12|False|\n",
      "| 56|B00AQL8VU4|     496201564|  Amazon for Tablets|   N|                Y|          Five Stars|           Excellent| 2014-10-26|             1|                  1|False|\n",
      "| 57|B006U4SHMS|     974513179|Enesco 4029715 Gu...|   N|                Y|Erwartungen &uuml...|Ich finde Zwergsp...| 2015-02-06|             0|                  2| True|\n",
      "| 60|B00005RDPX|     481781869|Windtalkers [DVD]...|   N|                Y|          Five Stars|            NICE DVD| 2014-09-29|             1|                  3|False|\n",
      "| 71|B004GJDQT8|      36653526|  Amazon Underground|   N|                Y|                poor|Worked fine when ...| 2013-07-02|             0|                  1| True|\n",
      "| 88|B00AW9MB4W|     113810823|Ender's Game [Blu...|   N|                Y|A much better mov...|I knew nothing ab...| 2015-08-23|             1|                  3|False|\n",
      "|111|B00KC5O5HW|      67426103|Between Heartbrea...|   N|                N|               Great|I really enjoy th...| 2015-03-26|             2|                  4|False|\n",
      "|118|B001BYMKRO|     101257542|Mamma Mia! The Mo...|   N|                N|        Bad Language|Sorry to be a spo...| 2009-01-16|             1|                  3| True|\n",
      "|121|B004SBQGHS|     541673691|Angry Birds (Ad-F...|   N|                Y|      Vớllér Wérbúng|Obwohl dies Spiel...| 2013-08-30|             3|                  0| True|\n",
      "|125|B000000H57|      96250911|        October Rust|   N|                Y|Chef d'Oeuvre got...|Une des 4 pièces ...| 2014-06-01|             2|                  6| True|\n",
      "|139|B0000AGDMJ|     579654184|Das Leben des Dav...|   N|                N|Dás Bésté, wás ic...|Dér Film hátté sc...| 2007-12-31|             0|                 11| True|\n",
      "|165|B003AM95OM|      53815042| Jaquette différente|   N|                Y|      2012 [Blu-ray]|La jaquette du fi...| 2012-07-05|             2|                  3|False|\n",
      "|170|B0000252BG|     514416658|              Aenima|   N|                N|anything Keenan t...|It's perhaps not ...| 2001-07-21|             1|                 16|False|\n",
      "|175|0857522310|     627793267|The Girl on the T...|   N|                Y|Bit confusing goi...|Dont usually read...| 2015-07-13|             0|                  0|False|\n",
      "+---+----------+--------------+--------------------+----+-----------------+--------------------+--------------------+-----------+--------------+-------------------+-----+\n",
      "only showing top 20 rows\n",
      "\n"
     ]
    }
   ],
   "source": [
    "df.show()"
   ]
  },
  {
   "cell_type": "code",
   "execution_count": null,
   "metadata": {},
   "outputs": [],
   "source": []
  }
 ],
 "metadata": {
  "kernelspec": {
   "display_name": ".venv",
   "language": "python",
   "name": "python3"
  },
  "language_info": {
   "codemirror_mode": {
    "name": "ipython",
    "version": 3
   },
   "file_extension": ".py",
   "mimetype": "text/x-python",
   "name": "python",
   "nbconvert_exporter": "python",
   "pygments_lexer": "ipython3",
   "version": "3.12.2"
  }
 },
 "nbformat": 4,
 "nbformat_minor": 2
}
