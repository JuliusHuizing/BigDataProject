{
 "cells": [
  {
   "cell_type": "code",
   "execution_count": 1,
   "metadata": {},
   "outputs": [
    {
     "name": "stderr",
     "output_type": "stream",
     "text": [
      "/home/roderickmajoor/anaconda3/envs/BD/lib/python3.12/site-packages/tqdm/auto.py:21: TqdmWarning: IProgress not found. Please update jupyter and ipywidgets. See https://ipywidgets.readthedocs.io/en/stable/user_install.html\n",
      "  from .autonotebook import tqdm as notebook_tqdm\n",
      "None of PyTorch, TensorFlow >= 2.0, or Flax have been found. Models won't be available and only tokenizers, configuration and file/data utilities can be used.\n"
     ]
    }
   ],
   "source": [
    "from deprecated.DataLoader import DataLoader\n",
    "from deprecated.DataCleaner import DataCleaner\n",
    "from DataSplit import DataSplit, DataSet\n",
    "from pyspark.sql import SparkSession\n",
    "from pyspark.ml import Pipeline as SparkPipeline\n",
    "from pyspark.ml.feature import StringIndexer, VectorAssembler\n",
    "from pyspark.ml.classification import RandomForestClassifier\n",
    "from pyspark.ml.evaluation import BinaryClassificationEvaluator\n",
    "from pyspark.ml import PipelineModel\n",
    "from deprecated.Pipeline import PreProcessingPipeline\n",
    "from pyspark.sql.functions import upper, initcap\n",
    "from Config import Config"
   ]
  },
  {
   "cell_type": "code",
   "execution_count": 2,
   "metadata": {},
   "outputs": [
    {
     "name": "stderr",
     "output_type": "stream",
     "text": [
      "24/03/14 16:39:25 WARN Utils: Your hostname, roderick resolves to a loopback address: 127.0.1.1; using 192.168.178.29 instead (on interface enp3s0)\n",
      "24/03/14 16:39:25 WARN Utils: Set SPARK_LOCAL_IP if you need to bind to another address\n",
      "Setting default log level to \"WARN\".\n",
      "To adjust logging level use sc.setLogLevel(newLevel). For SparkR, use setLogLevel(newLevel).\n",
<<<<<<< HEAD:predict.ipynb
      "24/03/14 16:39:26 WARN NativeCodeLoader: Unable to load native-hadoop library for your platform... using builtin-java classes where applicable\n",
      "24/03/14 16:39:26 WARN Utils: Service 'SparkUI' could not bind on port 4040. Attempting port 4041.\n"
=======
      "24/03/14 10:29:09 WARN NativeCodeLoader: Unable to load native-hadoop library for your platform... using builtin-java classes where applicable\n"
>>>>>>> @{-1}:deprecated/predict.ipynb
     ]
    }
   ],
   "source": [
    "\n",
    "val_data = DataLoader(DataSplit.VALIDATION).data\n",
    "test_data = DataLoader(DataSplit.TEST).data"
   ]
  },
  {
   "cell_type": "code",
   "execution_count": 3,
   "metadata": {},
   "outputs": [],
   "source": [
    "val_preprocessing_pipeline = PreProcessingPipeline(DataSplit.VALIDATION)\n",
    "test_preprocessing_pipeline = PreProcessingPipeline(DataSplit.TEST)\n",
    "\n"
   ]
  },
  {
   "cell_type": "code",
   "execution_count": 4,
   "metadata": {},
   "outputs": [
    {
     "name": "stderr",
     "output_type": "stream",
     "text": [
      "WARNING:root:The submission files for validation and test data should contain predictions only. Consider setting predictions_only to True.\n",
      "WARNING:root:The submission files for validation and test data should contain predictions only. Consider setting predictions_only to True.\n"
     ]
    }
   ],
   "source": [
    "val_df = val_preprocessing_pipeline.run()\n",
    "test_df = test_preprocessing_pipeline.run()"
   ]
  },
  {
   "cell_type": "code",
   "execution_count": 5,
   "metadata": {},
   "outputs": [
    {
     "name": "stderr",
     "output_type": "stream",
     "text": [
      "WARNING: An illegal reflective access operation has occurred                    \n",
      "WARNING: Illegal reflective access by org.apache.spark.util.SizeEstimator$ (file:/home/roderickmajoor/anaconda3/envs/BD/lib/python3.12/site-packages/pyspark/jars/spark-core_2.12-3.5.1.jar) to field java.math.BigInteger.mag\n",
      "WARNING: Please consider reporting this to the maintainers of org.apache.spark.util.SizeEstimator$\n",
      "WARNING: Use --illegal-access=warn to enable warnings of further illegal reflective access operations\n",
      "WARNING: All illegal access operations will be denied in a future release\n"
     ]
    }
   ],
   "source": [
    "model = PipelineModel.load(Config.MODEL_PATH)"
   ]
  },
  {
   "cell_type": "code",
   "execution_count": 6,
   "metadata": {},
   "outputs": [
    {
     "name": "stderr",
     "output_type": "stream",
     "text": [
<<<<<<< HEAD:predict.ipynb
      "24/03/14 16:39:39 WARN StringIndexerModel: Input column label does not exist during transformation. Skip StringIndexerModel for this column.\n",
      "24/03/14 16:39:40 WARN StringIndexerModel: Input column label does not exist during transformation. Skip StringIndexerModel for this column.\n"
=======
      "24/03/14 10:29:14 WARN StringIndexerModel: Input column label does not exist during transformation. Skip StringIndexerModel for this column.\n",
      "24/03/14 10:29:15 WARN StringIndexerModel: Input column label does not exist during transformation. Skip StringIndexerModel for this column.\n"
>>>>>>> @{-1}:deprecated/predict.ipynb
     ]
    }
   ],
   "source": [
    "val_preds = model.transform(val_df)\n",
    "test_preds = model.transform(test_df)"
   ]
  },
  {
   "cell_type": "code",
   "execution_count": 7,
   "metadata": {},
   "outputs": [
    {
     "name": "stderr",
     "output_type": "stream",
     "text": [
      "\r",
      "[Stage 17:>                                                         (0 + 1) / 1]\r"
     ]
    },
    {
     "name": "stdout",
     "output_type": "stream",
     "text": [
      "+----------+\n",
      "|prediction|\n",
      "+----------+\n",
      "|       1.0|\n",
      "|       0.0|\n",
      "|       0.0|\n",
      "|       1.0|\n",
      "|       0.0|\n",
      "+----------+\n",
      "only showing top 5 rows\n",
      "\n"
     ]
    },
    {
     "name": "stderr",
     "output_type": "stream",
     "text": [
      "\r",
      "                                                                                \r"
     ]
    }
   ],
   "source": [
    "val_preds.select(\"prediction\").show(5)"
   ]
  },
  {
   "cell_type": "code",
   "execution_count": 8,
   "metadata": {},
   "outputs": [],
   "source": [
    "# add label column, convering from 0,1 to False, True\n",
    "val_preds = val_preds.withColumn(\"label\", val_preds[\"prediction\"].cast(\"boolean\").cast(\"string\"))\n",
    "test_preds = test_preds.withColumn(\"label\", test_preds[\"prediction\"].cast(\"boolean\").cast(\"string\"))"
   ]
  },
  {
   "cell_type": "code",
   "execution_count": 9,
   "metadata": {},
   "outputs": [],
   "source": [
    "val_preds = val_preds.select(initcap(\"label\"))\n",
    "test_preds = test_preds.select(initcap(\"label\"))"
   ]
  },
  {
   "cell_type": "code",
   "execution_count": 10,
   "metadata": {},
   "outputs": [
    {
     "name": "stdout",
     "output_type": "stream",
     "text": [
      "+--------------+\n",
      "|initcap(label)|\n",
      "+--------------+\n",
      "|          True|\n",
      "|         False|\n",
      "|         False|\n",
      "|          True|\n",
      "|         False|\n",
      "+--------------+\n",
      "only showing top 5 rows\n",
      "\n"
     ]
    }
   ],
   "source": [
    "val_preds.show(5)"
   ]
  },
  {
   "cell_type": "code",
   "execution_count": 11,
   "metadata": {},
   "outputs": [],
   "source": [
    "val_preds.write.csv(f'{Config.PREDICTIONS_PATH}{Config.VALIDATION_PREDICTIONS_NAME}', mode=\"overwrite\", header=False)\n",
    "test_preds.write.csv(f'{Config.PREDICTIONS_PATH}{Config.TEST_PREDICTIONS_NAME}', mode=\"overwrite\", header=False)\n",
    "                  "
   ]
  }
 ],
 "metadata": {
  "kernelspec": {
   "display_name": "BD",
   "language": "python",
   "name": "bd"
  },
  "language_info": {
   "codemirror_mode": {
    "name": "ipython",
    "version": 3
   },
   "file_extension": ".py",
   "mimetype": "text/x-python",
   "name": "python",
   "nbconvert_exporter": "python",
   "pygments_lexer": "ipython3",
   "version": "3.12.2"
  }
 },
 "nbformat": 4,
 "nbformat_minor": 4
}
