{
 "cells": [
  {
   "cell_type": "code",
   "execution_count": 1,
   "metadata": {},
   "outputs": [
    {
     "name": "stderr",
     "output_type": "stream",
     "text": [
      "/Users/julius/repos/BD-Project/.venv/lib/python3.12/site-packages/tqdm/auto.py:21: TqdmWarning: IProgress not found. Please update jupyter and ipywidgets. See https://ipywidgets.readthedocs.io/en/stable/user_install.html\n",
      "  from .autonotebook import tqdm as notebook_tqdm\n",
      "Setting default log level to \"WARN\".\n",
      "To adjust logging level use sc.setLogLevel(newLevel). For SparkR, use setLogLevel(newLevel).\n",
      "24/03/14 14:28:15 WARN NativeCodeLoader: Unable to load native-hadoop library for your platform... using builtin-java classes where applicable\n",
      "24/03/14 14:28:16 WARN Utils: Service 'SparkUI' could not bind on port 4040. Attempting port 4041.\n"
     ]
    }
   ],
   "source": [
    "from Preprocess.PreprocessingConfig import PreprocessingConfig\n",
    "from Preprocess.PreprocessingPipeline import PreprocessingPipeline"
   ]
  },
  {
   "cell_type": "code",
   "execution_count": 2,
   "metadata": {},
   "outputs": [],
   "source": [
    "pipeline = PreprocessingPipeline(data_collector=PreprocessingConfig.DATA_COLLECTOR,\n",
    "                      preprocessing_modules=PreprocessingConfig.PREPROCESSING_MODULES,)\n"
   ]
  },
  {
   "cell_type": "code",
   "execution_count": 3,
   "metadata": {},
   "outputs": [],
   "source": [
    "df = pipeline.run()"
   ]
  },
  {
   "cell_type": "code",
   "execution_count": 4,
   "metadata": {},
   "outputs": [
    {
     "name": "stderr",
     "output_type": "stream",
     "text": [
      "24/03/14 14:28:19 WARN CSVHeaderChecker: CSV header does not conform to the schema.\n",
      " Header: , product_id, product_parent, product_title, vine, verified_purchase, review_headline, review_body, review_date, marketplace_id, product_category_id, label\n",
      " Schema: id, product_id, product_parent, product_title, vine, verified_purchase, review_headline, review_body, review_date, marketplace_id, product_category_id, label\n",
      "Expected: id but found: \n",
      "CSV file: file:///Users/julius/repos/BD-Project/data/train-6.csv\n",
      "                                                                                \r"
     ]
    },
    {
     "name": "stdout",
     "output_type": "stream",
     "text": [
      "+---+----------+--------------+--------------------+----+-----------------+--------------------+--------------------+--------------------+--------------+-------------------+--------------------+---------------+------------------+--------------------+\n",
      "| id|product_id|product_parent|       product_title|vine|verified_purchase|     review_headline|         review_body|         review_date|marketplace_id|product_category_id|               label|review_language|review_body_length|review_header_length|\n",
      "+---+----------+--------------+--------------------+----+-----------------+--------------------+--------------------+--------------------+--------------+-------------------+--------------------+---------------+------------------+--------------------+\n",
      "|  1|B00FAPF5U0|      46324555|    Candy Crush Saga|   N|                Y|brilliant but ann...|I took ages to si...|          2013-11-13|             1|                  1|               False|             en|               160|                  22|\n",
      "|  4|0141319135|     871827197|Percy Jackson and...|   N|                N|                NULL|Sadly I am still ...|          2010-03-23|             2|                  0|                True|             en|               381|                   0|\n",
      "| 17|B000VUVGAM|      62113606|Halloween Blu-ray...|   N|                Y|   Excellent version|Ok, I've had this...|          2009-10-28|             1|                  3|                True|             en|               307|                  17|\n",
      "| 21|B00DE6NGOO|     496520461|La Petite sirène ...|   N|                Y|                NULL|Dvd et blu ray il...|          2013-12-10|             2|                  3|               False|             fr|               148|                   0|\n",
      "| 30|B00E0MCYPS|     304179437|        Pocket Rally|   N|                Y|       finde ich gut|Mir géfällt dié Á...|          2014-05-21|             0|                  0|               False|             hu|               189|                  13|\n",
      "| 42|B000W01GK6|     464329028|Long Road Out of ...|   N|                N|Séhr gútés Álbúm ...|\"Selten habe ich ...| aber trotzdem: A...|          NULL|                  0|                   6|             de|              1243|                  37|\n",
      "| 52|B00C0K6NUY|     702355901|Broken Angels (Ka...|   N|                Y|          Five Stars|Brilliant worthy ...|          2014-12-15|             1|                 10|               False|             en|                81|                  10|\n",
      "| 54|B006FOVZQS|     706042866|Lioness: Hidden T...|   N|                Y|    hớhé Érwártúngén|Amy Winehouse hat...|          2013-02-03|             0|                 12|               False|             de|               193|                  16|\n",
      "| 56|B00AQL8VU4|     496201564|  Amazon for Tablets|   N|                Y|          Five Stars|           Excellent|          2014-10-26|             1|                  1|               False|             ca|                 9|                  10|\n",
      "| 57|B006U4SHMS|     974513179|Enesco 4029715 Gu...|   N|                Y|Erwartungen &uuml...|Ich finde Zwergsp...|          2015-02-06|             0|                  2|                True|             de|               519|                  29|\n",
      "| 60|B00005RDPX|     481781869|Windtalkers [DVD]...|   N|                Y|          Five Stars|            NICE DVD|          2014-09-29|             1|                  3|               False|             vi|                 8|                  10|\n",
      "| 71|B004GJDQT8|      36653526|  Amazon Underground|   N|                Y|                poor|Worked fine when ...|          2013-07-02|             0|                  1|                True|             en|               131|                   4|\n",
      "| 88|B00AW9MB4W|     113810823|Ender's Game [Blu...|   N|                Y|A much better mov...|I knew nothing ab...|          2015-08-23|             1|                  3|               False|             en|              1284|                  45|\n",
      "|109|B00004VYMT|     429439461|                NULL|   N|                N|                Heat|\"Quand 2 colosses...|            un bijou|          NULL|               NULL| l'unique fusilla...|             fr|               148|                   4|\n",
      "|111|B00KC5O5HW|      67426103|Between Heartbrea...|   N|                N|               Great|I really enjoy th...|          2015-03-26|             2|                  4|               False|             en|               195|                   5|\n",
      "|118|B001BYMKRO|     101257542|Mamma Mia! The Mo...|   N|                N|        Bad Language|Sorry to be a spo...|          2009-01-16|             1|                  3|                True|             en|               538|                  12|\n",
      "|121|B004SBQGHS|     541673691|Angry Birds (Ad-F...|   N|                Y|      Vớllér Wérbúng|Obwohl dies Spiel...|          2013-08-30|             3|                  0|                True|             de|               360|                  14|\n",
      "|125|B000000H57|      96250911|        October Rust|   N|                Y|Chef d'Oeuvre got...|Une des 4 pièces ...|          2014-06-01|             2|                  6|                True|             fr|               249|                  44|\n",
      "|136|B006OMVAKW|     883772272|           Contagion|   N|                Y|         lenteur ...|\"Ce film n'est pa...| le casting prest...|          NULL|               NULL| d'habitude dans ...|             fr|               281|                  11|\n",
      "|139|B0000AGDMJ|     579654184|Das Leben des Dav...|   N|                N|Dás Bésté, wás ic...|Dér Film hátté sc...|          2007-12-31|             0|                 11|                True|             hu|               284|                  43|\n",
      "+---+----------+--------------+--------------------+----+-----------------+--------------------+--------------------+--------------------+--------------+-------------------+--------------------+---------------+------------------+--------------------+\n",
      "only showing top 20 rows\n",
      "\n"
     ]
    }
   ],
   "source": [
    "df.show()"
   ]
  },
  {
   "cell_type": "code",
   "execution_count": null,
   "metadata": {},
   "outputs": [],
   "source": []
  }
 ],
 "metadata": {
  "kernelspec": {
   "display_name": ".venv",
   "language": "python",
   "name": "python3"
  },
  "language_info": {
   "codemirror_mode": {
    "name": "ipython",
    "version": 3
   },
   "file_extension": ".py",
   "mimetype": "text/x-python",
   "name": "python",
   "nbconvert_exporter": "python",
   "pygments_lexer": "ipython3",
   "version": "3.12.2"
  }
 },
 "nbformat": 4,
 "nbformat_minor": 2
}
