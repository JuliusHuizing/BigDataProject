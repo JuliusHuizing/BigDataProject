{
 "cells": [
  {
   "cell_type": "code",
   "execution_count": 1,
   "id": "b0fe5f56-595e-4128-8767-ec5385fa2223",
   "metadata": {},
   "outputs": [],
   "source": [
    "import pandas as pd\n",
    "import os\n",
    "\n",
    "# os.environ['PYSPARK_SUBMIT_ARGS'] = \"--master mymaster --total-executor 2 --conf 'spark.driver.extraJavaOptions=-Dhttp.proxyHost=proxy.mycorp.com-Dhttp.proxyPort=1234' -Dhttp.nonProxyHosts=localhost|.mycorp.com|127.0.0.1 -Dhttps.proxyHost=proxy.mycorp.com -Dhttps.proxyPort=1234 -Dhttps.nonProxyHosts=localhost|.mycorp.com|127.0.0.1 pyspark-shell\"\n",
    "from pyspark.sql import SparkSession\n",
    "from functools import reduce\n",
    "from pyspark.sql import DataFrame\n",
    "from pyspark.sql.functions import col, isnan, when, count\n",
    "from pyspark.ml.feature import Imputer, StringIndexer, OneHotEncoder\n",
    "from pyspark.ml import Pipeline\n",
    "from pyspark.sql.types import StructType, StructField, StringType, IntegerType, FloatType\n",
    "import os\n",
    "\n",
    "from DataLoader import DataLoader, DataSet\n"
   ]
  },
  {
   "cell_type": "code",
   "execution_count": 2,
   "id": "96132ffa",
   "metadata": {},
   "outputs": [
    {
     "name": "stderr",
     "output_type": "stream",
     "text": [
      "Setting default log level to \"WARN\".\n",
      "To adjust logging level use sc.setLogLevel(newLevel). For SparkR, use setLogLevel(newLevel).\n",
      "24/03/11 14:50:56 WARN NativeCodeLoader: Unable to load native-hadoop library for your platform... using builtin-java classes where applicable\n",
      "24/03/11 14:51:00 WARN CSVHeaderChecker: CSV header does not conform to the schema.\n",
      " Header: , product_id, product_parent, product_title, vine, verified_purchase, review_headline, review_body, review_date, marketplace_id, product_category_id, label\n",
      " Schema: id, product_id, product_parent, product_title, vine, verified_purchase, review_headline, review_body, review_date, marketplace_id, product_category_id, label\n",
      "Expected: id but found: \n",
      "CSV file: file:///Users/julius/repos/BD-Project/data/train-8.csv\n",
      "24/03/11 14:51:00 WARN CSVHeaderChecker: CSV header does not conform to the schema.\n",
      " Header: , product_id, product_parent, product_title, vine, verified_purchase, review_headline, review_body, review_date, marketplace_id, product_category_id, label\n",
      " Schema: id, product_id, product_parent, product_title, vine, verified_purchase, review_headline, review_body, review_date, marketplace_id, product_category_id, label\n",
      "Expected: id but found: \n",
      "CSV file: file:///Users/julius/repos/BD-Project/data/train-6.csv\n",
      "24/03/11 14:51:00 WARN CSVHeaderChecker: CSV header does not conform to the schema.\n",
      " Header: , product_id, product_parent, product_title, vine, verified_purchase, review_headline, review_body, review_date, marketplace_id, product_category_id, label\n",
      " Schema: id, product_id, product_parent, product_title, vine, verified_purchase, review_headline, review_body, review_date, marketplace_id, product_category_id, label\n",
      "Expected: id but found: \n",
      "CSV file: file:///Users/julius/repos/BD-Project/data/train-3.csv\n",
      "24/03/11 14:51:00 WARN CSVHeaderChecker: CSV header does not conform to the schema.\n",
      " Header: , product_id, product_parent, product_title, vine, verified_purchase, review_headline, review_body, review_date, marketplace_id, product_category_id, label\n",
      " Schema: id, product_id, product_parent, product_title, vine, verified_purchase, review_headline, review_body, review_date, marketplace_id, product_category_id, label\n",
      "Expected: id but found: \n",
      "CSV file: file:///Users/julius/repos/BD-Project/data/train-1.csv\n",
      "24/03/11 14:51:00 WARN CSVHeaderChecker: CSV header does not conform to the schema.\n",
      " Header: , product_id, product_parent, product_title, vine, verified_purchase, review_headline, review_body, review_date, marketplace_id, product_category_id, label\n",
      " Schema: id, product_id, product_parent, product_title, vine, verified_purchase, review_headline, review_body, review_date, marketplace_id, product_category_id, label\n",
      "Expected: id but found: \n",
      "CSV file: file:///Users/julius/repos/BD-Project/data/train-5.csv\n",
      "24/03/11 14:51:00 WARN CSVHeaderChecker: CSV header does not conform to the schema.\n",
      " Header: , product_id, product_parent, product_title, vine, verified_purchase, review_headline, review_body, review_date, marketplace_id, product_category_id, label\n",
      " Schema: id, product_id, product_parent, product_title, vine, verified_purchase, review_headline, review_body, review_date, marketplace_id, product_category_id, label\n",
      "Expected: id but found: \n",
      "CSV file: file:///Users/julius/repos/BD-Project/data/train-4.csv\n",
      "24/03/11 14:51:00 WARN CSVHeaderChecker: CSV header does not conform to the schema.\n",
      " Header: , product_id, product_parent, product_title, vine, verified_purchase, review_headline, review_body, review_date, marketplace_id, product_category_id, label\n",
      " Schema: id, product_id, product_parent, product_title, vine, verified_purchase, review_headline, review_body, review_date, marketplace_id, product_category_id, label\n",
      "Expected: id but found: \n",
      "CSV file: file:///Users/julius/repos/BD-Project/data/train-2.csv\n",
      "24/03/11 14:51:00 WARN CSVHeaderChecker: CSV header does not conform to the schema.\n",
      " Header: , product_id, product_parent, product_title, vine, verified_purchase, review_headline, review_body, review_date, marketplace_id, product_category_id, label\n",
      " Schema: id, product_id, product_parent, product_title, vine, verified_purchase, review_headline, review_body, review_date, marketplace_id, product_category_id, label\n",
      "Expected: id but found: \n",
      "CSV file: file:///Users/julius/repos/BD-Project/data/train-7.csv\n",
      "Java HotSpot(TM) 64-Bit Server VM warning: CodeCache is full. Compiler has been disabled.\n",
      "Java HotSpot(TM) 64-Bit Server VM warning: Try increasing the code cache size using -XX:ReservedCodeCacheSize=\n"
     ]
    },
    {
     "name": "stdout",
     "output_type": "stream",
     "text": [
      "CodeCache: size=131072Kb used=22717Kb max_used=22717Kb free=108354Kb\n",
      " bounds [0x00000001091e0000, 0x000000010a830000, 0x00000001111e0000]\n",
      " total_blobs=8951 nmethods=8022 adapters=842\n",
      " compilation: disabled (not enough contiguous free space left)\n",
      "Removed 0 duplicate rows.\n"
     ]
    }
   ],
   "source": [
    "loader = DataLoader(data_set=DataSet.VALIDATION)\n",
    "train_df = loader.df"
   ]
  },
  {
   "cell_type": "code",
   "execution_count": 3,
   "id": "3271f204-4688-4199-84d5-aba49ab05b73",
   "metadata": {},
   "outputs": [
    {
     "name": "stderr",
     "output_type": "stream",
     "text": [
      "24/03/11 14:51:02 WARN CSVHeaderChecker: CSV header does not conform to the schema.\n",
      " Header: , product_id, product_parent, product_title, vine, verified_purchase, review_headline, review_body, review_date, marketplace_id, product_category_id, label\n",
      " Schema: id, product_id, product_parent, product_title, vine, verified_purchase, review_headline, review_body, review_date, marketplace_id, product_category_id, label\n",
      "Expected: id but found: \n",
      "CSV file: file:///Users/julius/repos/BD-Project/data/train-8.csv\n",
      "24/03/11 14:51:02 WARN CSVHeaderChecker: CSV header does not conform to the schema.\n",
      " Header: , product_id, product_parent, product_title, vine, verified_purchase, review_headline, review_body, review_date, marketplace_id, product_category_id, label\n",
      " Schema: id, product_id, product_parent, product_title, vine, verified_purchase, review_headline, review_body, review_date, marketplace_id, product_category_id, label\n",
      "Expected: id but found: \n",
      "CSV file: file:///Users/julius/repos/BD-Project/data/train-4.csv\n",
      "24/03/11 14:51:02 WARN CSVHeaderChecker: CSV header does not conform to the schema.\n",
      " Header: , product_id, product_parent, product_title, vine, verified_purchase, review_headline, review_body, review_date, marketplace_id, product_category_id, label\n",
      " Schema: id, product_id, product_parent, product_title, vine, verified_purchase, review_headline, review_body, review_date, marketplace_id, product_category_id, label\n",
      "Expected: id but found: \n",
      "CSV file: file:///Users/julius/repos/BD-Project/data/train-5.csv\n",
      "24/03/11 14:51:02 WARN CSVHeaderChecker: CSV header does not conform to the schema.\n",
      " Header: , product_id, product_parent, product_title, vine, verified_purchase, review_headline, review_body, review_date, marketplace_id, product_category_id, label\n",
      " Schema: id, product_id, product_parent, product_title, vine, verified_purchase, review_headline, review_body, review_date, marketplace_id, product_category_id, label\n",
      "Expected: id but found: \n",
      "CSV file: file:///Users/julius/repos/BD-Project/data/train-3.csv\n",
      "24/03/11 14:51:02 WARN CSVHeaderChecker: CSV header does not conform to the schema.\n",
      " Header: , product_id, product_parent, product_title, vine, verified_purchase, review_headline, review_body, review_date, marketplace_id, product_category_id, label\n",
      " Schema: id, product_id, product_parent, product_title, vine, verified_purchase, review_headline, review_body, review_date, marketplace_id, product_category_id, label\n",
      "Expected: id but found: \n",
      "CSV file: file:///Users/julius/repos/BD-Project/data/train-7.csv\n",
      "24/03/11 14:51:02 WARN CSVHeaderChecker: CSV header does not conform to the schema.\n",
      " Header: , product_id, product_parent, product_title, vine, verified_purchase, review_headline, review_body, review_date, marketplace_id, product_category_id, label\n",
      " Schema: id, product_id, product_parent, product_title, vine, verified_purchase, review_headline, review_body, review_date, marketplace_id, product_category_id, label\n",
      "Expected: id but found: \n",
      "CSV file: file:///Users/julius/repos/BD-Project/data/train-2.csv\n",
      "24/03/11 14:51:02 WARN CSVHeaderChecker: CSV header does not conform to the schema.\n",
      " Header: , product_id, product_parent, product_title, vine, verified_purchase, review_headline, review_body, review_date, marketplace_id, product_category_id, label\n",
      " Schema: id, product_id, product_parent, product_title, vine, verified_purchase, review_headline, review_body, review_date, marketplace_id, product_category_id, label\n",
      "Expected: id but found: \n",
      "CSV file: file:///Users/julius/repos/BD-Project/data/train-6.csv\n",
      "24/03/11 14:51:02 WARN CSVHeaderChecker: CSV header does not conform to the schema.\n",
      " Header: , product_id, product_parent, product_title, vine, verified_purchase, review_headline, review_body, review_date, marketplace_id, product_category_id, label\n",
      " Schema: id, product_id, product_parent, product_title, vine, verified_purchase, review_headline, review_body, review_date, marketplace_id, product_category_id, label\n",
      "Expected: id but found: \n",
      "CSV file: file:///Users/julius/repos/BD-Project/data/train-1.csv\n"
     ]
    },
    {
     "name": "stdout",
     "output_type": "stream",
     "text": [
      "+---+----------+--------------+-------------+----+-----------------+---------------+-----------+-----------+--------------+-------------------+-----+\n",
      "| id|product_id|product_parent|product_title|vine|verified_purchase|review_headline|review_body|review_date|marketplace_id|product_category_id|label|\n",
      "+---+----------+--------------+-------------+----+-----------------+---------------+-----------+-----------+--------------+-------------------+-----+\n",
      "|  0|         0|             0|           64|   0|                0|            636|          0|          1|             0|                  0|    0|\n",
      "+---+----------+--------------+-------------+----+-----------------+---------------+-----------+-----------+--------------+-------------------+-----+\n",
      "\n"
     ]
    }
   ],
   "source": [
    "# Count missing values in each column\n",
    "missing_value_counts = train_df.select([count(when(isnan(c) | col(c).isNull(), c)).alias(c) for c in train_df.columns])\n",
    "\n",
    "# Display the count of missing values for each column\n",
    "missing_value_counts.show()"
   ]
  },
  {
   "cell_type": "code",
   "execution_count": 4,
   "id": "bec0d756-6f6a-4702-8552-4c7938f3873a",
   "metadata": {},
   "outputs": [
    {
     "name": "stdout",
     "output_type": "stream",
     "text": [
      "+----+-----+\n",
      "|vine|count|\n",
      "+----+-----+\n",
      "|   Y|   14|\n",
      "|   N| 8549|\n",
      "+----+-----+\n",
      "\n"
     ]
    }
   ],
   "source": [
    "train_df.groupBy(\"vine\").count().show()"
   ]
  },
  {
   "cell_type": "code",
   "execution_count": 5,
   "id": "5d49794a-2abc-4889-bc8f-1a98a2eec74b",
   "metadata": {},
   "outputs": [
    {
     "name": "stdout",
     "output_type": "stream",
     "text": [
      "+-----------------+-----+\n",
      "|verified_purchase|count|\n",
      "+-----------------+-----+\n",
      "|                Y| 5953|\n",
      "|                N| 2610|\n",
      "+-----------------+-----+\n",
      "\n"
     ]
    }
   ],
   "source": [
    "train_df.groupBy(\"verified_purchase\").count().show()"
   ]
  },
  {
   "cell_type": "code",
   "execution_count": 6,
   "id": "44736a9d-9762-4767-9df6-32a23304553d",
   "metadata": {},
   "outputs": [
    {
     "name": "stdout",
     "output_type": "stream",
     "text": [
      "+-----+-----+\n",
      "|label|count|\n",
      "+-----+-----+\n",
      "|False| 4991|\n",
      "| True| 3572|\n",
      "+-----+-----+\n",
      "\n"
     ]
    }
   ],
   "source": [
    "train_df.groupBy(\"label\").count().show()"
   ]
  },
  {
   "cell_type": "code",
   "execution_count": null,
   "id": "39ef4ca9-705e-4f01-8c65-1a09b589bedb",
   "metadata": {},
   "outputs": [],
   "source": []
  }
 ],
 "metadata": {
  "kernelspec": {
   "display_name": "Python 3 (ipykernel)",
   "language": "python",
   "name": "python3"
  },
  "language_info": {
   "codemirror_mode": {
    "name": "ipython",
    "version": 3
   },
   "file_extension": ".py",
   "mimetype": "text/x-python",
   "name": "python",
   "nbconvert_exporter": "python",
   "pygments_lexer": "ipython3",
   "version": "3.12.0"
  }
 },
 "nbformat": 4,
 "nbformat_minor": 5
}
