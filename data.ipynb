{
 "cells": [
  {
   "cell_type": "code",
   "execution_count": 2,
   "id": "b0fe5f56-595e-4128-8767-ec5385fa2223",
   "metadata": {},
   "outputs": [],
   "source": [
    "import pandas as pd\n",
    "import os\n",
    "\n",
    "# os.environ['PYSPARK_SUBMIT_ARGS'] = \"--master mymaster --total-executor 2 --conf 'spark.driver.extraJavaOptions=-Dhttp.proxyHost=proxy.mycorp.com-Dhttp.proxyPort=1234' -Dhttp.nonProxyHosts=localhost|.mycorp.com|127.0.0.1 -Dhttps.proxyHost=proxy.mycorp.com -Dhttps.proxyPort=1234 -Dhttps.nonProxyHosts=localhost|.mycorp.com|127.0.0.1 pyspark-shell\"\n",
    "from pyspark.sql import SparkSession\n",
    "from functools import reduce\n",
    "from pyspark.sql import DataFrame\n",
    "from pyspark.sql.functions import col, isnan, when, count\n",
    "from pyspark.ml.feature import Imputer, StringIndexer, OneHotEncoder\n",
    "from pyspark.ml import Pipeline\n",
    "from pyspark.sql.types import StructType, StructField, StringType, IntegerType, FloatType\n",
    "import os\n",
    "\n",
    "from DataLoader import DataLoader\n"
   ]
  },
  {
   "cell_type": "code",
   "execution_count": 3,
   "id": "96132ffa",
   "metadata": {},
   "outputs": [
    {
     "ename": "TypeError",
     "evalue": "DataLoader.__init__() missing 1 required positional argument: 'data_set'",
     "output_type": "error",
     "traceback": [
      "\u001b[0;31m---------------------------------------------------------------------------\u001b[0m",
      "\u001b[0;31mTypeError\u001b[0m                                 Traceback (most recent call last)",
      "Cell \u001b[0;32mIn[3], line 1\u001b[0m\n\u001b[0;32m----> 1\u001b[0m loader \u001b[38;5;241m=\u001b[39m \u001b[43mDataLoader\u001b[49m\u001b[43m(\u001b[49m\u001b[43m)\u001b[49m\n\u001b[1;32m      2\u001b[0m train_df \u001b[38;5;241m=\u001b[39m loader\u001b[38;5;241m.\u001b[39mtrain_df\n",
      "\u001b[0;31mTypeError\u001b[0m: DataLoader.__init__() missing 1 required positional argument: 'data_set'"
     ]
    }
   ],
   "source": [
    "loader = DataLoader(data_set=\"train\")\n",
    "train_df = loader.train_df"
   ]
  },
  {
   "cell_type": "code",
   "execution_count": null,
   "id": "3271f204-4688-4199-84d5-aba49ab05b73",
   "metadata": {},
   "outputs": [],
   "source": [
    "# Count missing values in each column\n",
    "missing_value_counts = train_df.select([count(when(isnan(c) | col(c).isNull(), c)).alias(c) for c in train_df.columns])\n",
    "\n",
    "# Display the count of missing values for each column\n",
    "missing_value_counts.show()"
   ]
  },
  {
   "cell_type": "code",
   "execution_count": null,
   "id": "bec0d756-6f6a-4702-8552-4c7938f3873a",
   "metadata": {},
   "outputs": [],
   "source": [
    "train_df.groupBy(\"vine\").count().show()"
   ]
  },
  {
   "cell_type": "code",
   "execution_count": null,
   "id": "5d49794a-2abc-4889-bc8f-1a98a2eec74b",
   "metadata": {},
   "outputs": [],
   "source": [
    "train_df.groupBy(\"verified_purchase\").count().show()"
   ]
  },
  {
   "cell_type": "code",
   "execution_count": null,
   "id": "44736a9d-9762-4767-9df6-32a23304553d",
   "metadata": {},
   "outputs": [],
   "source": [
    "train_df.groupBy(\"label\").count().show()"
   ]
  },
  {
   "cell_type": "code",
   "execution_count": null,
   "id": "39ef4ca9-705e-4f01-8c65-1a09b589bedb",
   "metadata": {},
   "outputs": [],
   "source": []
  }
 ],
 "metadata": {
  "kernelspec": {
   "display_name": "Python 3 (ipykernel)",
   "language": "python",
   "name": "python3"
  },
  "language_info": {
   "codemirror_mode": {
    "name": "ipython",
    "version": 3
   },
   "file_extension": ".py",
   "mimetype": "text/x-python",
   "name": "python",
   "nbconvert_exporter": "python",
   "pygments_lexer": "ipython3",
   "version": "3.12.0"
  }
 },
 "nbformat": 4,
 "nbformat_minor": 5
}
